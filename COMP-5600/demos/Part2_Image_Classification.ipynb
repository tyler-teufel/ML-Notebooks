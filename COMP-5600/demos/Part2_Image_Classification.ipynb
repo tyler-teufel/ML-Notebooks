
# Part 2: CNN for Natural Image Classification

## Import Libraries
```python
import numpy as np
import tensorflow as tf
from tensorflow.keras.models import Sequential
from tensorflow.keras.layers import Conv2D, MaxPooling2D, Flatten, Dense, Dropout
from tensorflow.keras.preprocessing.image import ImageDataGenerator
import matplotlib.pyplot as plt
import os
```

## Data Loading and Preparation
```python
# Define paths to dataset directories
train_dir = "path/to/train"
val_dir = "path/to/validation"

# Use ImageDataGenerator for loading and augmenting images
datagen = ImageDataGenerator(rescale=1./255)
train_gen = datagen.flow_from_directory(train_dir, target_size=(128, 128), batch_size=32, class_mode='categorical')
val_gen = datagen.flow_from_directory(val_dir, target_size=(128, 128), batch_size=32, class_mode='categorical')
```

## Model 1: CNN with 3 Convolutional Layers
```python
model_cnn1 = Sequential([
    Conv2D(32, (3, 3), activation='relu', input_shape=(128, 128, 3)),
    MaxPooling2D(pool_size=(2, 2)),
    Conv2D(64, (3, 3), activation='relu'),
    MaxPooling2D(pool_size=(2, 2)),
    Conv2D(128, (3, 3), activation='relu'),
    MaxPooling2D(pool_size=(2, 2)),
    Flatten(),
    Dense(128, activation='relu'),
    Dropout(0.5),
    Dense(6, activation='softmax')
])

model_cnn1.compile(optimizer='adam', loss='categorical_crossentropy', metrics=['accuracy'])
model_cnn1.summary()

history_cnn1 = model_cnn1.fit(train_gen, validation_data=val_gen, epochs=10)
```

## Model 2: CNN with 6 Convolutional Layers
```python
model_cnn2 = Sequential([
    Conv2D(32, (3, 3), activation='relu', input_shape=(128, 128, 3)),
    MaxPooling2D(pool_size=(2, 2)),
    Conv2D(64, (3, 3), activation='relu'),
    MaxPooling2D(pool_size=(2, 2)),
    Conv2D(128, (3, 3), activation='relu'),
    MaxPooling2D(pool_size=(2, 2)),
    Conv2D(256, (3, 3), activation='relu'),
    Conv2D(512, (3, 3), activation='relu'),
    MaxPooling2D(pool_size=(2, 2)),
    Flatten(),
    Dense(128, activation='relu'),
    Dropout(0.5),
    Dense(6, activation='softmax')
])

model_cnn2.compile(optimizer='adam', loss='categorical_crossentropy', metrics=['accuracy'])
model_cnn2.summary()

history_cnn2 = model_cnn2.fit(train_gen, validation_data=val_gen, epochs=10)
```

## Evaluation
```python
# Visualize training performance
def plot_cnn_metrics(history, model_name):
    plt.figure(figsize=(12, 4))
    plt.subplot(1, 2, 1)
    plt.plot(history.history['accuracy'], label='Train Accuracy')
    plt.plot(history.history['val_accuracy'], label='Val Accuracy')
    plt.title(f'{model_name} Accuracy')
    plt.legend()

    plt.subplot(1, 2, 2)
    plt.plot(history.history['loss'], label='Train Loss')
    plt.plot(history.history['val_loss'], label='Val Loss')
    plt.title(f'{model_name} Loss')
    plt.legend()
    plt.show()

plot_cnn_metrics(history_cnn1, "CNN 3-Layer")
plot_cnn_metrics(history_cnn2, "CNN 6-Layer")
```

