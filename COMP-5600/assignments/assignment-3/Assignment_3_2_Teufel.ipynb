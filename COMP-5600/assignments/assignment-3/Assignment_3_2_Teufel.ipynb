{
 "cells": [
  {
   "cell_type": "markdown",
   "metadata": {
    "id": "sphjoM7vIgQi"
   },
   "source": [
    "# AI Assignment 3, part 2"
   ]
  },
  {
   "cell_type": "markdown",
   "metadata": {
    "id": "_6SdgJ5JIjDI"
   },
   "source": [
    "## Import Libraries"
   ]
  },
  {
   "cell_type": "code",
   "execution_count": null,
   "metadata": {},
   "outputs": [],
   "source": [
    "%pip install kagglehub\n",
    "%pip install tensorflow\n",
    "%pip install pandas\n",
    "%pip install numpy\n",
    "%pip install matplotlib\n",
    "%pip install nltk\n",
    "%pip install scikit-learn\n",
    "%pip install opencv-python\n",
    "%pip install pandas"
   ]
  },
  {
   "cell_type": "code",
   "execution_count": 45,
   "metadata": {
    "id": "LzhuKP8GIo6q"
   },
   "outputs": [],
   "source": [
    "import os\n",
    "import kagglehub\n",
    "import pandas as pd\n",
    "import numpy as np\n",
    "import cv2\n",
    "import tensorflow as tf\n",
    "from tensorflow.keras import Sequential, Input\n",
    "from tensorflow.keras.optimizers import Adam, SGD, RMSprop\n",
    "from tensorflow.keras.layers import Conv2D, MaxPooling2D, Flatten, Dense, Dropout\n",
    "from tensorflow.keras.preprocessing.image import ImageDataGenerator\n",
    "from tensorflow.keras.utils import to_categorical\n",
    "import matplotlib.pyplot as plt\n",
    "from sklearn.metrics import precision_score, recall_score, f1_score, classification_report"
   ]
  },
  {
   "cell_type": "markdown",
   "metadata": {
    "id": "k9Ekpf2jJAOQ"
   },
   "source": [
    "## Load and Preprocess Data"
   ]
  },
  {
   "cell_type": "markdown",
   "metadata": {
    "id": "Iv1KeqyhMQ5V"
   },
   "source": [
    "### Download the data, pull the directories"
   ]
  },
  {
   "cell_type": "code",
   "execution_count": 5,
   "metadata": {
    "colab": {
     "base_uri": "https://localhost:8080/"
    },
    "id": "W_7VWTEeR4uw",
    "outputId": "0697f677-ba00-47a4-c7a2-9b83780fc846"
   },
   "outputs": [
    {
     "name": "stdout",
     "output_type": "stream",
     "text": [
      "Downloading from https://www.kaggle.com/api/v1/datasets/download/puneet6060/intel-image-classification?dataset_version_number=2...\n"
     ]
    },
    {
     "name": "stderr",
     "output_type": "stream",
     "text": [
      "100%|██████████| 346M/346M [00:03<00:00, 108MB/s]  "
     ]
    },
    {
     "name": "stdout",
     "output_type": "stream",
     "text": [
      "Extracting files...\n"
     ]
    },
    {
     "name": "stderr",
     "output_type": "stream",
     "text": [
      "\n"
     ]
    },
    {
     "name": "stdout",
     "output_type": "stream",
     "text": [
      "Path to dataset files: C:\\Users\\tyler\\.cache\\kagglehub\\datasets\\puneet6060\\intel-image-classification\\versions\\2\n",
      "Train directory: C:\\Users\\tyler\\.cache\\kagglehub\\datasets\\puneet6060\\intel-image-classification\\versions\\2\\seg_train/seg_train\n",
      "Test directory: C:\\Users\\tyler\\.cache\\kagglehub\\datasets\\puneet6060\\intel-image-classification\\versions\\2\\seg_test/seg_test\n"
     ]
    }
   ],
   "source": [
    "path = kagglehub.dataset_download(\"puneet6060/intel-image-classification\")\n",
    "print(\"Path to dataset files:\", path)\n",
    "\n",
    "train_dir = os.path.join(path, 'seg_train/seg_train')\n",
    "test_dir = os.path.join(path, 'seg_test/seg_test')\n",
    "\n",
    "print(\"Train directory:\", train_dir)\n",
    "print(\"Test directory:\", test_dir)"
   ]
  },
  {
   "cell_type": "markdown",
   "metadata": {
    "id": "GqfzDdhKMUXl"
   },
   "source": [
    "### Define load_images function for identifying by class"
   ]
  },
  {
   "cell_type": "code",
   "execution_count": 6,
   "metadata": {
    "colab": {
     "base_uri": "https://localhost:8080/"
    },
    "id": "jZP45WwRQvu4",
    "outputId": "8b00a53f-8ecc-4883-c5d5-c7fc1cf310af"
   },
   "outputs": [
    {
     "name": "stdout",
     "output_type": "stream",
     "text": [
      "Training data shape: (14034, 128, 128, 3)\n",
      "Validation data shape: (3000, 128, 128, 3)\n",
      "Classes: ['buildings', 'forest', 'glacier', 'mountain', 'sea', 'street']\n",
      "Shape of Y_train: (14034,)\n",
      "Shape of Y_val: (3000,)\n"
     ]
    }
   ],
   "source": [
    "#\n",
    "def load_images(folder):\n",
    "\n",
    "  images = []\n",
    "  labels = []\n",
    "  class_names = os.listdir(folder)\n",
    "  class_indices = {class_name: i for i, class_name in enumerate(class_names)}\n",
    "\n",
    "  for class_name in class_names:\n",
    "    class_folder = os.path.join(folder, class_name)\n",
    "    if os.path.isdir(class_folder):\n",
    "      for image_name in os.listdir(class_folder):\n",
    "        image_path = os.path.join(class_folder, image_name)\n",
    "        image = cv2.imread(image_path)\n",
    "        if image is not None:\n",
    "          image = cv2.resize(image, (128, 128))\n",
    "          images.append(image)\n",
    "          labels.append(class_indices[class_name])\n",
    "\n",
    "  return np.array(images), np.array(labels), class_names\n",
    "\n",
    "X_train, Y_train, train_class_names = load_images(train_dir)\n",
    "\n",
    "X_val, Y_val, val_class_names = load_images(test_dir)\n",
    "\n",
    "print('Training data shape:', X_train.shape)\n",
    "print('Validation data shape:', X_val.shape)\n",
    "print('Classes:', train_class_names)\n",
    "\n",
    "print(\"Shape of Y_train:\", Y_train.shape)  # Should be (14034, num_classes)\n",
    "print(\"Shape of Y_val:\", Y_val.shape)      # Should be (3000, num_classes)\n"
   ]
  },
  {
   "cell_type": "markdown",
   "metadata": {
    "id": "kGtcqbhJUw5N"
   },
   "source": [
    "### Normalize image pixel values, use one-hot encoding"
   ]
  },
  {
   "cell_type": "code",
   "execution_count": 7,
   "metadata": {
    "colab": {
     "base_uri": "https://localhost:8080/"
    },
    "id": "NcuMC-JGT-mK",
    "outputId": "db9ef66e-d706-403e-d2fe-ce772bee53db"
   },
   "outputs": [
    {
     "name": "stdout",
     "output_type": "stream",
     "text": [
      "Shape of Y_train after encoding: (14034, 6)\n",
      "Shape of Y_val after encoding: (3000, 6)\n"
     ]
    }
   ],
   "source": [
    "X_train = X_train / 255.0\n",
    "X_val = X_val / 255.0\n",
    "\n",
    "Y_train = to_categorical(Y_train, num_classes=len(train_class_names))\n",
    "Y_val = to_categorical(Y_val, num_classes=len(val_class_names))\n",
    "\n",
    "# Verify the shapes after encoding\n",
    "print(\"Shape of Y_train after encoding:\", Y_train.shape)  # Should be (14034, 6)\n",
    "print(\"Shape of Y_val after encoding:\", Y_val.shape)      # Should be (3000, 6)\n"
   ]
  },
  {
   "cell_type": "markdown",
   "metadata": {
    "id": "R2mjOTqPU9Mt"
   },
   "source": [
    "## Train CNN Models"
   ]
  },
  {
   "cell_type": "markdown",
   "metadata": {
    "id": "91y8Y2LRVGfw"
   },
   "source": [
    "### Model 1: 3 convolution layers"
   ]
  },
  {
   "cell_type": "code",
   "execution_count": 46,
   "metadata": {
    "colab": {
     "base_uri": "https://localhost:8080/"
    },
    "id": "uQ4fubwVVIrm",
    "outputId": "ee13d43c-ee4a-4235-dcde-ef5f18e09805"
   },
   "outputs": [
    {
     "name": "stderr",
     "output_type": "stream",
     "text": [
      "c:\\Users\\tyler\\AppData\\Local\\Programs\\Python\\Python310\\lib\\site-packages\\keras\\src\\layers\\convolutional\\base_conv.py:107: UserWarning: Do not pass an `input_shape`/`input_dim` argument to a layer. When using Sequential models, prefer using an `Input(shape)` object as the first layer in the model instead.\n",
      "  super().__init__(activity_regularizer=activity_regularizer, **kwargs)\n"
     ]
    },
    {
     "name": "stdout",
     "output_type": "stream",
     "text": [
      "Epoch 1/10\n",
      "\u001b[1m220/220\u001b[0m \u001b[32m━━━━━━━━━━━━━━━━━━━━\u001b[0m\u001b[37m\u001b[0m \u001b[1m23s\u001b[0m 101ms/step - accuracy: 0.3762 - loss: 1.4990 - val_accuracy: 0.5623 - val_loss: 1.0866\n",
      "Epoch 2/10\n",
      "\u001b[1m220/220\u001b[0m \u001b[32m━━━━━━━━━━━━━━━━━━━━\u001b[0m\u001b[37m\u001b[0m \u001b[1m22s\u001b[0m 101ms/step - accuracy: 0.5656 - loss: 1.1020 - val_accuracy: 0.6543 - val_loss: 0.8980\n",
      "Epoch 3/10\n",
      "\u001b[1m220/220\u001b[0m \u001b[32m━━━━━━━━━━━━━━━━━━━━\u001b[0m\u001b[37m\u001b[0m \u001b[1m22s\u001b[0m 98ms/step - accuracy: 0.6317 - loss: 0.9344 - val_accuracy: 0.6670 - val_loss: 0.8174\n",
      "Epoch 4/10\n",
      "\u001b[1m220/220\u001b[0m \u001b[32m━━━━━━━━━━━━━━━━━━━━\u001b[0m\u001b[37m\u001b[0m \u001b[1m21s\u001b[0m 97ms/step - accuracy: 0.6911 - loss: 0.7997 - val_accuracy: 0.7180 - val_loss: 0.7179\n",
      "Epoch 5/10\n",
      "\u001b[1m220/220\u001b[0m \u001b[32m━━━━━━━━━━━━━━━━━━━━\u001b[0m\u001b[37m\u001b[0m \u001b[1m21s\u001b[0m 97ms/step - accuracy: 0.7198 - loss: 0.7389 - val_accuracy: 0.7487 - val_loss: 0.6656\n",
      "Epoch 6/10\n",
      "\u001b[1m220/220\u001b[0m \u001b[32m━━━━━━━━━━━━━━━━━━━━\u001b[0m\u001b[37m\u001b[0m \u001b[1m21s\u001b[0m 97ms/step - accuracy: 0.7481 - loss: 0.6633 - val_accuracy: 0.7530 - val_loss: 0.6653\n",
      "Epoch 7/10\n",
      "\u001b[1m220/220\u001b[0m \u001b[32m━━━━━━━━━━━━━━━━━━━━\u001b[0m\u001b[37m\u001b[0m \u001b[1m22s\u001b[0m 98ms/step - accuracy: 0.7885 - loss: 0.5743 - val_accuracy: 0.7717 - val_loss: 0.6294\n",
      "Epoch 8/10\n",
      "\u001b[1m220/220\u001b[0m \u001b[32m━━━━━━━━━━━━━━━━━━━━\u001b[0m\u001b[37m\u001b[0m \u001b[1m21s\u001b[0m 97ms/step - accuracy: 0.8143 - loss: 0.5150 - val_accuracy: 0.7810 - val_loss: 0.6367\n",
      "Epoch 9/10\n",
      "\u001b[1m220/220\u001b[0m \u001b[32m━━━━━━━━━━━━━━━━━━━━\u001b[0m\u001b[37m\u001b[0m \u001b[1m22s\u001b[0m 98ms/step - accuracy: 0.8320 - loss: 0.4455 - val_accuracy: 0.7890 - val_loss: 0.5959\n",
      "Epoch 10/10\n",
      "\u001b[1m220/220\u001b[0m \u001b[32m━━━━━━━━━━━━━━━━━━━━\u001b[0m\u001b[37m\u001b[0m \u001b[1m22s\u001b[0m 99ms/step - accuracy: 0.8444 - loss: 0.4163 - val_accuracy: 0.7893 - val_loss: 0.6049\n"
     ]
    }
   ],
   "source": [
    "learning_rate = .01\n",
    "optimizer = SGD(learning_rate=0.01, momentum=0.9)\n",
    "batch_size = 64\n",
    "\n",
    "model_3conv = Sequential([\n",
    "    Conv2D(32, (3, 3), activation='relu', input_shape=(128, 128, 3)),\n",
    "    MaxPooling2D(pool_size=(2,2)),\n",
    "    Conv2D(64, (3, 3), activation='relu'),\n",
    "    MaxPooling2D(pool_size=(2,2)),\n",
    "    Conv2D(128, (3, 3), activation='relu'),\n",
    "    MaxPooling2D(pool_size=(2,2)),\n",
    "    Flatten(),\n",
    "    Dense(128, activation='relu'),\n",
    "    Dropout(0.5),\n",
    "    Dense(len(train_class_names), activation='softmax')\n",
    "\n",
    "])\n",
    "\n",
    "model_3conv.compile(optimizer=optimizer, loss='categorical_crossentropy', metrics=['accuracy'])\n",
    "\n",
    "history_3conv = model_3conv.fit(X_train, Y_train, validation_data=(X_val, Y_val), epochs=10, batch_size=batch_size)"
   ]
  },
  {
   "cell_type": "markdown",
   "metadata": {},
   "source": [
    "### Model 2"
   ]
  },
  {
   "cell_type": "code",
   "execution_count": 48,
   "metadata": {
    "id": "t2wTS1iCs8CX"
   },
   "outputs": [
    {
     "name": "stderr",
     "output_type": "stream",
     "text": [
      "c:\\Users\\tyler\\AppData\\Local\\Programs\\Python\\Python310\\lib\\site-packages\\keras\\src\\layers\\convolutional\\base_conv.py:107: UserWarning: Do not pass an `input_shape`/`input_dim` argument to a layer. When using Sequential models, prefer using an `Input(shape)` object as the first layer in the model instead.\n",
      "  super().__init__(activity_regularizer=activity_regularizer, **kwargs)\n"
     ]
    },
    {
     "name": "stdout",
     "output_type": "stream",
     "text": [
      "Epoch 1/10\n",
      "\u001b[1m220/220\u001b[0m \u001b[32m━━━━━━━━━━━━━━━━━━━━\u001b[0m\u001b[37m\u001b[0m \u001b[1m60s\u001b[0m 269ms/step - accuracy: 0.3327 - loss: 1.5987 - val_accuracy: 0.5817 - val_loss: 1.0445\n",
      "Epoch 2/10\n",
      "\u001b[1m220/220\u001b[0m \u001b[32m━━━━━━━━━━━━━━━━━━━━\u001b[0m\u001b[37m\u001b[0m \u001b[1m60s\u001b[0m 272ms/step - accuracy: 0.5794 - loss: 1.0708 - val_accuracy: 0.6393 - val_loss: 0.9132\n",
      "Epoch 3/10\n",
      "\u001b[1m220/220\u001b[0m \u001b[32m━━━━━━━━━━━━━━━━━━━━\u001b[0m\u001b[37m\u001b[0m \u001b[1m60s\u001b[0m 274ms/step - accuracy: 0.6340 - loss: 0.9275 - val_accuracy: 0.6637 - val_loss: 0.8368\n",
      "Epoch 4/10\n",
      "\u001b[1m220/220\u001b[0m \u001b[32m━━━━━━━━━━━━━━━━━━━━\u001b[0m\u001b[37m\u001b[0m \u001b[1m59s\u001b[0m 269ms/step - accuracy: 0.6753 - loss: 0.8364 - val_accuracy: 0.7103 - val_loss: 0.7496\n",
      "Epoch 5/10\n",
      "\u001b[1m220/220\u001b[0m \u001b[32m━━━━━━━━━━━━━━━━━━━━\u001b[0m\u001b[37m\u001b[0m \u001b[1m60s\u001b[0m 272ms/step - accuracy: 0.7230 - loss: 0.7261 - val_accuracy: 0.7080 - val_loss: 0.7731\n",
      "Epoch 6/10\n",
      "\u001b[1m220/220\u001b[0m \u001b[32m━━━━━━━━━━━━━━━━━━━━\u001b[0m\u001b[37m\u001b[0m \u001b[1m58s\u001b[0m 265ms/step - accuracy: 0.7468 - loss: 0.6791 - val_accuracy: 0.7483 - val_loss: 0.6602\n",
      "Epoch 7/10\n",
      "\u001b[1m220/220\u001b[0m \u001b[32m━━━━━━━━━━━━━━━━━━━━\u001b[0m\u001b[37m\u001b[0m \u001b[1m58s\u001b[0m 266ms/step - accuracy: 0.7591 - loss: 0.6361 - val_accuracy: 0.7417 - val_loss: 0.6832\n",
      "Epoch 8/10\n",
      "\u001b[1m220/220\u001b[0m \u001b[32m━━━━━━━━━━━━━━━━━━━━\u001b[0m\u001b[37m\u001b[0m \u001b[1m58s\u001b[0m 264ms/step - accuracy: 0.7906 - loss: 0.5482 - val_accuracy: 0.7550 - val_loss: 0.6600\n",
      "Epoch 9/10\n",
      "\u001b[1m220/220\u001b[0m \u001b[32m━━━━━━━━━━━━━━━━━━━━\u001b[0m\u001b[37m\u001b[0m \u001b[1m59s\u001b[0m 266ms/step - accuracy: 0.8114 - loss: 0.4919 - val_accuracy: 0.7847 - val_loss: 0.6049\n",
      "Epoch 10/10\n",
      "\u001b[1m220/220\u001b[0m \u001b[32m━━━━━━━━━━━━━━━━━━━━\u001b[0m\u001b[37m\u001b[0m \u001b[1m58s\u001b[0m 266ms/step - accuracy: 0.8395 - loss: 0.4306 - val_accuracy: 0.7797 - val_loss: 0.6694\n"
     ]
    }
   ],
   "source": [
    "\n",
    "model_6conv = Sequential([\n",
    "    Conv2D(32, (3, 3), activation='relu', input_shape=(128, 128, 3)),\n",
    "    Conv2D(32, (3, 3), activation='relu'),\n",
    "    MaxPooling2D(pool_size=(2, 2)),\n",
    "    Conv2D(64, (3, 3), activation='relu'),\n",
    "    Conv2D(64, (3, 3), activation='relu'),\n",
    "    MaxPooling2D(pool_size=(2, 2)),\n",
    "    Conv2D(128, (3, 3), activation='relu'),\n",
    "    Conv2D(128, (3, 3), activation='relu'),\n",
    "    MaxPooling2D(pool_size=(2, 2)),\n",
    "    Flatten(),\n",
    "    Dense(256, activation='relu'),\n",
    "    Dropout(0.5),\n",
    "    Dense(len(train_class_names), activation='softmax')\n",
    "])\n",
    "\n",
    "\n",
    "model_6conv.compile(optimizer=SGD(learning_rate=learning_rate, momentum=0.9), loss='categorical_crossentropy', metrics=['accuracy'])\n",
    "\n",
    "history_6conv = model_6conv.fit(\n",
    "    X_train, Y_train, \n",
    "    validation_data=(X_val, Y_val), \n",
    "    epochs=10, \n",
    "    batch_size=batch_size\n",
    ")\n",
    "\n"
   ]
  },
  {
   "cell_type": "markdown",
   "metadata": {},
   "source": [
    "## Evaluating the performance of the models"
   ]
  },
  {
   "cell_type": "markdown",
   "metadata": {},
   "source": [
    "### Plotting the outcomes of the two models"
   ]
  },
  {
   "cell_type": "code",
   "execution_count": 49,
   "metadata": {},
   "outputs": [
    {
     "data": {
      "image/png": "[encoded data removed]",
      "text/plain": [
       "<Figure size 640x480 with 1 Axes>"
      ]
     },
     "metadata": {},
     "output_type": "display_data"
    },
    {
     "data": {
      "text/plain": [
       "<Figure size 640x480 with 0 Axes>"
      ]
     },
     "metadata": {},
     "output_type": "display_data"
    }
   ],
   "source": [
    "# Plot validation accuracy for both models\n",
    "plt.plot(history_3conv.history['val_accuracy'], label='3 Conv Layers')\n",
    "plt.plot(history_6conv.history['val_accuracy'], label='6 Conv Layers')\n",
    "plt.title('Validation Accuracy Comparison')\n",
    "plt.xlabel('Epochs')\n",
    "plt.ylabel('Accuracy')\n",
    "plt.legend()\n",
    "plt.show()\n",
    "plt.savefig('run_3_graph.png')"
   ]
  },
  {
   "cell_type": "markdown",
   "metadata": {},
   "source": [
    "### Calculate Predictive metrics, Evaluation metrics"
   ]
  },
  {
   "cell_type": "code",
   "execution_count": 51,
   "metadata": {},
   "outputs": [
    {
     "name": "stdout",
     "output_type": "stream",
     "text": [
      "\u001b[1m94/94\u001b[0m \u001b[32m━━━━━━━━━━━━━━━━━━━━\u001b[0m\u001b[37m\u001b[0m \u001b[1m1s\u001b[0m 16ms/step\n",
      "\u001b[1m94/94\u001b[0m \u001b[32m━━━━━━━━━━━━━━━━━━━━\u001b[0m\u001b[37m\u001b[0m \u001b[1m4s\u001b[0m 38ms/step\n",
      "\u001b[1m94/94\u001b[0m \u001b[32m━━━━━━━━━━━━━━━━━━━━\u001b[0m\u001b[37m\u001b[0m \u001b[1m1s\u001b[0m 15ms/step - accuracy: 0.8041 - loss: 0.5844\n",
      "\u001b[1m94/94\u001b[0m \u001b[32m━━━━━━━━━━━━━━━━━━━━\u001b[0m\u001b[37m\u001b[0m \u001b[1m3s\u001b[0m 37ms/step - accuracy: 0.8422 - loss: 0.4988\n"
     ]
    }
   ],
   "source": [
    "\n",
    "# Predict for both models\n",
    "y_pred_3conv = model_3conv.predict(X_val)\n",
    "y_pred_6conv = model_6conv.predict(X_val)\n",
    "\n",
    "# Convert predictions to class indices\n",
    "y_pred_3conv_classes = np.argmax(y_pred_3conv, axis=1)\n",
    "y_pred_6conv_classes = np.argmax(y_pred_6conv, axis=1)\n",
    "y_val_classes = np.argmax(Y_val, axis=1)  # True class indices\n",
    "\n",
    "# Compute metrics for 3-layer CNN\n",
    "val_loss_3conv, val_acc_3conv = model_3conv.evaluate(X_val, Y_val)\n",
    "precision_3conv = precision_score(y_val_classes, y_pred_3conv_classes, average='macro')\n",
    "recall_3conv = recall_score(y_val_classes, y_pred_3conv_classes, average='macro')\n",
    "f1_3conv = f1_score(y_val_classes, y_pred_3conv_classes, average='macro')\n",
    "\n",
    "# Compute metrics for 6-layer CNN\n",
    "# val_loss_6conv, val_acc_6conv, val_recall_6conv, val_precision_6conv = model_6conv.evaluate(X_val, Y_val)\n",
    "val_loss_6conv, val_acc_6conv = model_6conv.evaluate(X_val, Y_val)\n",
    "\n",
    "precision_6conv = precision_score(y_val_classes, y_pred_6conv_classes, average='macro')\n",
    "recall_6conv = recall_score(y_val_classes, y_pred_6conv_classes, average='macro')\n",
    "f1_6conv = f1_score(y_val_classes, y_pred_6conv_classes, average='macro')\n",
    "\n",
    "# Prepare results for the current run\n",
    "current_results = {\n",
    "    'Model': ['3 Conv Layers', '6 Conv Layers'],\n",
    "    'Validation Loss': [val_loss_3conv, val_loss_6conv],\n",
    "    'Validation Accuracy': [val_acc_3conv, val_acc_6conv],\n",
    "    'Precision': [precision_3conv, precision_6conv],\n",
    "    'Recall': [recall_3conv, recall_6conv],\n",
    "    'F1 Score': [f1_3conv, f1_6conv],\n",
    "    'Optimizer': ['SGD', 'SGD'],\n",
    "    'Learning Rate': [learning_rate, learning_rate],  \n",
    "    'Batch Size': [32,32],       \n",
    "    'Epochs': [10,10]\n",
    "}\n",
    "\n",
    "\n",
    "# Convert to a DataFrame\n",
    "current_results_df = pd.DataFrame(current_results)\n",
    "\n",
    "\n",
    "# Filepath to save results\n",
    "results_filepath = 'cnn_results.csv'\n",
    "\n",
    "# Append to CSV if file exists, otherwise create a new file\n",
    "if os.path.exists(results_filepath):\n",
    "    previous_results_df = pd.read_csv(results_filepath)\n",
    "    combined_results_df = pd.concat([previous_results_df, current_results_df], ignore_index=True)\n",
    "else:\n",
    "    combined_results_df = current_results_df\n",
    "\n",
    "# Save the combined results to CSV\n",
    "combined_results_df.to_csv(results_filepath, index=False)\n"
   ]
  }
 ],
 "metadata": {
  "accelerator": "GPU",
  "colab": {
   "collapsed_sections": [
    "_6SdgJ5JIjDI",
    "k9Ekpf2jJAOQ",
    "Iv1KeqyhMQ5V"
   ],
   "gpuType": "T4",
   "provenance": []
  },
  "kernelspec": {
   "display_name": "Python 3",
   "language": "python",
   "name": "python3"
  },
  "language_info": {
   "codemirror_mode": {
    "name": "ipython",
    "version": 3
   },
   "file_extension": ".py",
   "mimetype": "text/x-python",
   "name": "python",
   "nbconvert_exporter": "python",
   "pygments_lexer": "ipython3",
   "version": "3.10.8"
  }
 },
 "nbformat": 4,
 "nbformat_minor": 0
}
