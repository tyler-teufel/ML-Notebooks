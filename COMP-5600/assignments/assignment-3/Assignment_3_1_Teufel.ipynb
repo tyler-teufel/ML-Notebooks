{
  "nbformat": 4,
  "nbformat_minor": 0,
  "metadata": {
    "colab": {
      "provenance": []
    },
    "kernelspec": {
      "name": "python3",
      "display_name": "Python 3"
    },
    "language_info": {
      "name": "python"
    }
  },
  "cells": [
    {
      "cell_type": "markdown",
      "source": [
        "# Assignment 3 - Tyler Teufel\n",
        "\n"
      ],
      "metadata": {
        "id": "HXCXFMZi8RA7"
      }
    },
    {
      "cell_type": "markdown",
      "source": [
        "## Step 1- setup\n",
        "Imports, Dataset download, column refinement."
      ],
      "metadata": {
        "id": "M1wcDSMJB40Z"
      }
    },
    {
      "cell_type": "markdown",
      "source": [
        "### Imports"
      ],
      "metadata": {
        "id": "UC7gFLptCv0p"
      }
    },
    {
      "cell_type": "code",
      "source": [
        "# General libraries\n",
        "import numpy as np\n",
        "import pandas as pd\n",
        "import kagglehub\n",
        "import os\n",
        "import nltk\n",
        "from nltk.corpus import stopwords\n",
        "from nltk.stem import WordNetLemmatizer\n",
        "from nltk.tokenize import word_tokenize, sent_tokenize\n",
        "from sklearn.preprocessing import MultiLabelBinarizer\n",
        "from sklearn.model_selection import train_test_split\n",
        "from sklearn.metrics import precision_score, recall_score, f1_score\n",
        "\n",
        "\n",
        "# Keras for tokenization, padding, and model creation\n",
        "!pip install tensorflow\n",
        "\n",
        "from tensorflow.keras.preprocessing.text import Tokenizer\n",
        "from tensorflow.keras.preprocessing.sequence import pad_sequences\n",
        "from tensorflow.keras.models import Sequential\n",
        "from tensorflow.keras.layers import Embedding, SimpleRNN, Dense, LSTM\n",
        "\n",
        "\n",
        "\n",
        "# Visualization\n",
        "import matplotlib.pyplot as plt"
      ],
      "metadata": {
        "colab": {
          "base_uri": "https://localhost:8080/"
        },
        "collapsed": true,
        "id": "jalGSmQlmp86",
        "outputId": "737b665d-b9c3-4e19-a6de-9de9574c00fa"
      },
      "execution_count": null,
      "outputs": [
        {
          "output_type": "stream",
          "name": "stdout",
          "text": [
            "Requirement already satisfied: tensorflow in /usr/local/lib/python3.10/dist-packages (2.17.1)\n",
            "Requirement already satisfied: absl-py>=1.0.0 in /usr/local/lib/python3.10/dist-packages (from tensorflow) (1.4.0)\n",
            "Requirement already satisfied: astunparse>=1.6.0 in /usr/local/lib/python3.10/dist-packages (from tensorflow) (1.6.3)\n",
            "Requirement already satisfied: flatbuffers>=24.3.25 in /usr/local/lib/python3.10/dist-packages (from tensorflow) (24.3.25)\n",
            "Requirement already satisfied: gast!=0.5.0,!=0.5.1,!=0.5.2,>=0.2.1 in /usr/local/lib/python3.10/dist-packages (from tensorflow) (0.6.0)\n",
            "Requirement already satisfied: google-pasta>=0.1.1 in /usr/local/lib/python3.10/dist-packages (from tensorflow) (0.2.0)\n",
            "Requirement already satisfied: h5py>=3.10.0 in /usr/local/lib/python3.10/dist-packages (from tensorflow) (3.12.1)\n",
            "Requirement already satisfied: libclang>=13.0.0 in /usr/local/lib/python3.10/dist-packages (from tensorflow) (18.1.1)\n",
            "Requirement already satisfied: ml-dtypes<0.5.0,>=0.3.1 in /usr/local/lib/python3.10/dist-packages (from tensorflow) (0.4.1)\n",
            "Requirement already satisfied: opt-einsum>=2.3.2 in /usr/local/lib/python3.10/dist-packages (from tensorflow) (3.4.0)\n",
            "Requirement already satisfied: packaging in /usr/local/lib/python3.10/dist-packages (from tensorflow) (24.2)\n",
            "Requirement already satisfied: protobuf!=4.21.0,!=4.21.1,!=4.21.2,!=4.21.3,!=4.21.4,!=4.21.5,<5.0.0dev,>=3.20.3 in /usr/local/lib/python3.10/dist-packages (from tensorflow) (4.25.5)\n",
            "Requirement already satisfied: requests<3,>=2.21.0 in /usr/local/lib/python3.10/dist-packages (from tensorflow) (2.32.3)\n",
            "Requirement already satisfied: setuptools in /usr/local/lib/python3.10/dist-packages (from tensorflow) (75.1.0)\n",
            "Requirement already satisfied: six>=1.12.0 in /usr/local/lib/python3.10/dist-packages (from tensorflow) (1.16.0)\n",
            "Requirement already satisfied: termcolor>=1.1.0 in /usr/local/lib/python3.10/dist-packages (from tensorflow) (2.5.0)\n",
            "Requirement already satisfied: typing-extensions>=3.6.6 in /usr/local/lib/python3.10/dist-packages (from tensorflow) (4.12.2)\n",
            "Requirement already satisfied: wrapt>=1.11.0 in /usr/local/lib/python3.10/dist-packages (from tensorflow) (1.16.0)\n",
            "Requirement already satisfied: grpcio<2.0,>=1.24.3 in /usr/local/lib/python3.10/dist-packages (from tensorflow) (1.67.1)\n",
            "Requirement already satisfied: tensorboard<2.18,>=2.17 in /usr/local/lib/python3.10/dist-packages (from tensorflow) (2.17.1)\n",
            "Requirement already satisfied: keras>=3.2.0 in /usr/local/lib/python3.10/dist-packages (from tensorflow) (3.5.0)\n",
            "Requirement already satisfied: tensorflow-io-gcs-filesystem>=0.23.1 in /usr/local/lib/python3.10/dist-packages (from tensorflow) (0.37.1)\n",
            "Requirement already satisfied: numpy<2.0.0,>=1.23.5 in /usr/local/lib/python3.10/dist-packages (from tensorflow) (1.26.4)\n",
            "Requirement already satisfied: wheel<1.0,>=0.23.0 in /usr/local/lib/python3.10/dist-packages (from astunparse>=1.6.0->tensorflow) (0.45.0)\n",
            "Requirement already satisfied: rich in /usr/local/lib/python3.10/dist-packages (from keras>=3.2.0->tensorflow) (13.9.4)\n",
            "Requirement already satisfied: namex in /usr/local/lib/python3.10/dist-packages (from keras>=3.2.0->tensorflow) (0.0.8)\n",
            "Requirement already satisfied: optree in /usr/local/lib/python3.10/dist-packages (from keras>=3.2.0->tensorflow) (0.13.1)\n",
            "Requirement already satisfied: charset-normalizer<4,>=2 in /usr/local/lib/python3.10/dist-packages (from requests<3,>=2.21.0->tensorflow) (3.4.0)\n",
            "Requirement already satisfied: idna<4,>=2.5 in /usr/local/lib/python3.10/dist-packages (from requests<3,>=2.21.0->tensorflow) (3.10)\n",
            "Requirement already satisfied: urllib3<3,>=1.21.1 in /usr/local/lib/python3.10/dist-packages (from requests<3,>=2.21.0->tensorflow) (2.2.3)\n",
            "Requirement already satisfied: certifi>=2017.4.17 in /usr/local/lib/python3.10/dist-packages (from requests<3,>=2.21.0->tensorflow) (2024.8.30)\n",
            "Requirement already satisfied: markdown>=2.6.8 in /usr/local/lib/python3.10/dist-packages (from tensorboard<2.18,>=2.17->tensorflow) (3.7)\n",
            "Requirement already satisfied: tensorboard-data-server<0.8.0,>=0.7.0 in /usr/local/lib/python3.10/dist-packages (from tensorboard<2.18,>=2.17->tensorflow) (0.7.2)\n",
            "Requirement already satisfied: werkzeug>=1.0.1 in /usr/local/lib/python3.10/dist-packages (from tensorboard<2.18,>=2.17->tensorflow) (3.1.3)\n",
            "Requirement already satisfied: MarkupSafe>=2.1.1 in /usr/local/lib/python3.10/dist-packages (from werkzeug>=1.0.1->tensorboard<2.18,>=2.17->tensorflow) (3.0.2)\n",
            "Requirement already satisfied: markdown-it-py>=2.2.0 in /usr/local/lib/python3.10/dist-packages (from rich->keras>=3.2.0->tensorflow) (3.0.0)\n",
            "Requirement already satisfied: pygments<3.0.0,>=2.13.0 in /usr/local/lib/python3.10/dist-packages (from rich->keras>=3.2.0->tensorflow) (2.18.0)\n",
            "Requirement already satisfied: mdurl~=0.1 in /usr/local/lib/python3.10/dist-packages (from markdown-it-py>=2.2.0->rich->keras>=3.2.0->tensorflow) (0.1.2)\n"
          ]
        }
      ]
    },
    {
      "cell_type": "markdown",
      "source": [
        "### Download imbd dataset, adjust columns"
      ],
      "metadata": {
        "id": "43Q4WWv0CuJn"
      }
    },
    {
      "cell_type": "code",
      "execution_count": null,
      "metadata": {
        "colab": {
          "base_uri": "https://localhost:8080/"
        },
        "id": "6JV2EtCk5qbc",
        "outputId": "2d7ea161-06e7-45a9-fd89-a1bcdf53b832"
      },
      "outputs": [
        {
          "output_type": "stream",
          "name": "stdout",
          "text": [
            "Path to dataset files: /root/.cache/kagglehub/datasets/PromptCloudHQ/imdb-data/versions/1\n",
            "\n",
            "Files in dataset directory: ['IMDB-Movie-Data.csv']\n",
            "\n",
            "Index(['Title', 'Genre', 'Description'], dtype='object')\n",
            "\n",
            "Prometheus\n",
            "Adventure,Mystery,Sci-Fi\n",
            "Following clues to the origin of mankind, a team finds a structure on a distant moon, but they soon realize they are not alone.\n"
          ]
        }
      ],
      "source": [
        "\n",
        "# Download the imdb dataset.\n",
        "path = kagglehub.dataset_download(\"PromptCloudHQ/imdb-data\")\n",
        "print(\"Path to dataset files:\", path)\n",
        "print()\n",
        "\n",
        "# List all files in the dataset directory.\n",
        "files = os.listdir(path)\n",
        "print(\"Files in dataset directory:\", files)\n",
        "print()\n",
        "\n",
        "# Adjust the file to only include columns relevant to the assignment.\n",
        "csv_file_path = os.path.join(path, 'IMDB-Movie-Data.csv')\n",
        "data = pd.read_csv(csv_file_path)\n",
        "data = data[['Title','Genre','Description']]\n",
        "\n",
        "# Print data columns, as well as the first movie's information.\n",
        "print(data.columns)\n",
        "print()\n",
        "print(data['Title'][1])\n",
        "print(data['Genre'][1])\n",
        "print(data['Description'][1])"
      ]
    },
    {
      "cell_type": "markdown",
      "source": [
        "## Step 2 - Preprocessing Step"
      ],
      "metadata": {
        "id": "fIoZdwO4-AJ_"
      }
    },
    {
      "cell_type": "markdown",
      "source": [
        "### Begin tokenization + lemmatization with stop words"
      ],
      "metadata": {
        "id": "jaPKhvMmDCE3"
      }
    },
    {
      "cell_type": "code",
      "source": [
        "# Download the three NLTK datasets for prepropressing.\n",
        "nltk.download('punkt_tab')\n",
        "nltk.download('stopwords')\n",
        "nltk.download('wordnet')\n",
        "\n",
        "# Create a set containing all of the english stop words to be used.\n",
        "stop_words = set(stopwords.words('english'))\n",
        "#print(stop_words)\n",
        "\n",
        "# Create an instance of the WordNet Lemmatizer model.\n",
        "lemmatizer = WordNetLemmatizer()\n",
        "\n",
        "# Function for preprocessing each description.\n",
        "def preprocess_text(description):\n",
        "\n",
        "  # Tokenize the description inputted.\n",
        "  tokens = nltk.word_tokenize(description.lower())\n",
        "\n",
        "\n",
        "  # Use list comprehension to lemmatize non stop-word tokens containing\n",
        "  # exclusively alphanumeric charcters.\n",
        "  filtered_tokens = [lemmatizer.lemmatize(token) for token in tokens\n",
        "                     if token not in stop_words and token.isalnum()]\n",
        "  return ' '.join(filtered_tokens)\n",
        "\n",
        "\n",
        "# Apply the preprocess function to all descriptions, print out first example.\n",
        "data['Description'] = data['Description'].apply(preprocess_text)\n",
        "print(data['Description'][1])\n",
        "\n"
      ],
      "metadata": {
        "colab": {
          "base_uri": "https://localhost:8080/"
        },
        "id": "589SsYz3-FMG",
        "outputId": "b30373fc-e0ac-470d-bcf6-02dbc5bdbbb5"
      },
      "execution_count": null,
      "outputs": [
        {
          "output_type": "stream",
          "name": "stderr",
          "text": [
            "[nltk_data] Downloading package punkt_tab to /root/nltk_data...\n",
            "[nltk_data]   Package punkt_tab is already up-to-date!\n",
            "[nltk_data] Downloading package stopwords to /root/nltk_data...\n",
            "[nltk_data]   Package stopwords is already up-to-date!\n",
            "[nltk_data] Downloading package wordnet to /root/nltk_data...\n",
            "[nltk_data]   Package wordnet is already up-to-date!\n"
          ]
        },
        {
          "output_type": "stream",
          "name": "stdout",
          "text": [
            "following clue origin mankind team find structure distant moon soon realize alone\n"
          ]
        }
      ]
    },
    {
      "cell_type": "markdown",
      "source": [
        "### 'Tokenize' the data by converting the cleaned text into integer sequences"
      ],
      "metadata": {
        "id": "tAHeYPazoOmU"
      }
    },
    {
      "cell_type": "code",
      "source": [
        "# Initialize an instance of the tokenizer.\n",
        "tokenizer = Tokenizer()\n",
        "tokenizer.fit_on_texts(data['Description'])\n",
        "\n",
        "# Convert text to sequences of ints.\n",
        "seq = tokenizer.texts_to_sequences(data['Description'])\n",
        "\n",
        "# Get a dictionary of the word indices.\n",
        "word_index = tokenizer.word_index\n",
        "\n",
        "# Take the size of the total words, adding pad token.\n",
        "vocab_size = len(word_index) + 1\n",
        "print(\"Vocabulary Size:\", vocab_size)\n"
      ],
      "metadata": {
        "colab": {
          "base_uri": "https://localhost:8080/"
        },
        "id": "-nMMcetqoaaG",
        "outputId": "a3a48c62-9239-43d5-b55f-66ed0d08e54f"
      },
      "execution_count": null,
      "outputs": [
        {
          "output_type": "stream",
          "name": "stdout",
          "text": [
            "Vocabulary Size: 5149\n"
          ]
        }
      ]
    },
    {
      "cell_type": "markdown",
      "source": [
        "### Padding Step"
      ],
      "metadata": {
        "id": "qf0MRU4Eo7k_"
      }
    },
    {
      "cell_type": "code",
      "source": [
        "# Preset max length to 100.\n",
        "max_len = 100\n",
        "\n",
        "# Set X equal to the padded sequence of ints, padded with 0s.\n",
        "X = pad_sequences(seq, maxlen=max_len, padding='post')\n",
        "\n",
        "print(f\"Shape of X: {X.shape}\")\n"
      ],
      "metadata": {
        "colab": {
          "base_uri": "https://localhost:8080/"
        },
        "id": "KFsusB-8o9gq",
        "outputId": "9e834d9d-2db1-4ddd-ec01-b41cb3daf724"
      },
      "execution_count": null,
      "outputs": [
        {
          "output_type": "stream",
          "name": "stdout",
          "text": [
            "Shape of X: (1000, 100)\n"
          ]
        }
      ]
    },
    {
      "cell_type": "markdown",
      "source": [
        "## Step 3 - Load in and prepare the Embedding Matrix + GloVe"
      ],
      "metadata": {
        "id": "_rBGsPyXlLmQ"
      }
    },
    {
      "cell_type": "markdown",
      "source": [
        "### Multi-Labelling by genres"
      ],
      "metadata": {
        "id": "W1jPO_jMRF6B"
      }
    },
    {
      "cell_type": "code",
      "source": [
        "# Modify the Genre column to contain list of genres rather than a string.\n",
        "data['Genre'] = data['Genre'].apply(lambda x: x.split(','))\n",
        "\n",
        "# Instantiate the MultiLabelBinarizer object.\n",
        "mlb = MultiLabelBinarizer()\n",
        "\n",
        "# Set Y equal to the transformed data fit using the multi label\n",
        "# binarizer.\n",
        "Y = mlb.fit_transform(data['Genre'])\n",
        "print(Y[0])\n",
        "print(mlb.classes_)"
      ],
      "metadata": {
        "colab": {
          "base_uri": "https://localhost:8080/"
        },
        "id": "5EDJCJ0CRMWB",
        "outputId": "e15ff8f1-b3b2-44a8-cd68-31124f648efe"
      },
      "execution_count": null,
      "outputs": [
        {
          "output_type": "stream",
          "name": "stdout",
          "text": [
            "[1 1 0 0 0 0 0 0 0 0 0 0 0 0 0 1 0 0 0 0]\n",
            "['Action' 'Adventure' 'Animation' 'Biography' 'Comedy' 'Crime' 'Drama'\n",
            " 'Family' 'Fantasy' 'History' 'Horror' 'Music' 'Musical' 'Mystery'\n",
            " 'Romance' 'Sci-Fi' 'Sport' 'Thriller' 'War' 'Western']\n"
          ]
        }
      ]
    },
    {
      "cell_type": "markdown",
      "source": [
        "### Data Splitting"
      ],
      "metadata": {
        "id": "nbQwteh-pb_5"
      }
    },
    {
      "cell_type": "code",
      "source": [
        "# Split the data based on the instructions.\n",
        "X_train, Y_train = X[:700], Y[:700]\n",
        "X_val, Y_val = X[700:800], Y[700:800]\n",
        "X_test, Y_test = X[800:], Y[800:]\n",
        "\n",
        "print(\"Training Data Shapes:\")\n",
        "print(\"X_train:\", X_train.shape)\n",
        "print(\"Y_train:\", Y_train.shape)\n",
        "\n",
        "print(\"\\nValidation Data Shapes:\")\n",
        "print(\"X_val:\", X_val.shape)\n",
        "print(\"Y_val:\", Y_val.shape)\n",
        "\n",
        "print(\"\\nTest Data Shapes:\")\n",
        "print(\"X_test:\", X_test.shape)\n",
        "print(\"Y_test:\", Y_test.shape)"
      ],
      "metadata": {
        "colab": {
          "base_uri": "https://localhost:8080/"
        },
        "id": "vI7KrmY9peFw",
        "outputId": "b38cee67-86ca-4237-fd79-00b81b3bf87d"
      },
      "execution_count": null,
      "outputs": [
        {
          "output_type": "stream",
          "name": "stdout",
          "text": [
            "Training Data Shapes:\n",
            "X_train: (700, 100)\n",
            "Y_train: (700, 20)\n",
            "\n",
            "Validation Data Shapes:\n",
            "X_val: (100, 100)\n",
            "Y_val: (100, 20)\n",
            "\n",
            "Test Data Shapes:\n",
            "X_test: (200, 100)\n",
            "Y_test: (200, 20)\n"
          ]
        }
      ]
    },
    {
      "cell_type": "markdown",
      "source": [
        "### Load GloVe Embedding In"
      ],
      "metadata": {
        "id": "Ch0K-oE0iLqB"
      }
    },
    {
      "cell_type": "code",
      "source": [
        "# Commands to download the Glove embedding.\n",
        "!wget http://nlp.stanford.edu/data/glove.6B.zip\n",
        "!unzip glove.6B.zip\n",
        "\n",
        "\n",
        "# Create empty dictionary to store word vectors.\n",
        "embeddings_index = {}\n",
        "\n",
        "# Open glove.6B.100d.txt and parse lines to extract word vectors.\n",
        "with open('glove.6B.100d.txt', encoding='utf-8') as f:\n",
        "  for line in f:\n",
        "    values = line.split()\n",
        "    word = values[0]\n",
        "    coefs = np.asarray(values[1:], dtype='float32')\n",
        "    embeddings_index[word] = coefs\n",
        "print('Found %s word vectors.' % len(embeddings_index))\n",
        "\n",
        "\n",
        "# Prepare the embedding matrix\n",
        "embedding_dim = 100\n",
        "embedding_matrix = np.zeros((vocab_size, embedding_dim))\n",
        "for word, i in word_index.items():\n",
        "  if i < vocab_size:\n",
        "    embedding_vector = embeddings_index.get(word)\n",
        "    if embedding_vector is not None:\n",
        "      embedding_matrix[i] = embedding_vector\n",
        "\n",
        "print(\"Shape of Embedding Matrix:\", embedding_matrix.shape)\n"
      ],
      "metadata": {
        "colab": {
          "base_uri": "https://localhost:8080/"
        },
        "id": "_jClmk4pFW4b",
        "outputId": "53a0ed90-35a1-4240-dc50-6906e9e445e1",
        "collapsed": true
      },
      "execution_count": null,
      "outputs": [
        {
          "output_type": "stream",
          "name": "stdout",
          "text": [
            "--2024-11-17 21:38:46--  http://nlp.stanford.edu/data/glove.6B.zip\n",
            "Resolving nlp.stanford.edu (nlp.stanford.edu)... 171.64.67.140\n",
            "Connecting to nlp.stanford.edu (nlp.stanford.edu)|171.64.67.140|:80... connected.\n",
            "HTTP request sent, awaiting response... 302 Found\n",
            "Location: https://nlp.stanford.edu/data/glove.6B.zip [following]\n",
            "--2024-11-17 21:38:46--  https://nlp.stanford.edu/data/glove.6B.zip\n",
            "Connecting to nlp.stanford.edu (nlp.stanford.edu)|171.64.67.140|:443... connected.\n",
            "HTTP request sent, awaiting response... 301 Moved Permanently\n",
            "Location: https://downloads.cs.stanford.edu/nlp/data/glove.6B.zip [following]\n",
            "--2024-11-17 21:38:46--  https://downloads.cs.stanford.edu/nlp/data/glove.6B.zip\n",
            "Resolving downloads.cs.stanford.edu (downloads.cs.stanford.edu)... 171.64.64.22\n",
            "Connecting to downloads.cs.stanford.edu (downloads.cs.stanford.edu)|171.64.64.22|:443... connected.\n",
            "HTTP request sent, awaiting response... 200 OK\n",
            "Length: 862182613 (822M) [application/zip]\n",
            "Saving to: ‘glove.6B.zip’\n",
            "\n",
            "glove.6B.zip        100%[===================>] 822.24M  3.63MB/s    in 3m 3s   \n",
            "\n",
            "2024-11-17 21:41:50 (4.49 MB/s) - ‘glove.6B.zip’ saved [862182613/862182613]\n",
            "\n",
            "Archive:  glove.6B.zip\n",
            "  inflating: glove.6B.50d.txt        \n",
            "  inflating: glove.6B.100d.txt       \n",
            "  inflating: glove.6B.200d.txt       \n",
            "  inflating: glove.6B.300d.txt       \n",
            "Found 400000 word vectors.\n",
            "Shape of Embedding Matrix: (5149, 100)\n"
          ]
        }
      ]
    },
    {
      "cell_type": "markdown",
      "source": [
        "## Step 4 - Build Models"
      ],
      "metadata": {
        "id": "_EFEzasPDkU3"
      }
    },
    {
      "cell_type": "markdown",
      "source": [
        "### Building the RNN Model"
      ],
      "metadata": {
        "id": "1QO2TNmwqzo4"
      }
    },
    {
      "cell_type": "code",
      "source": [
        "# Build RNN model\n",
        "model_rnn = Sequential([Embedding(input_dim=vocab_size, output_dim=embedding_dim,\n",
        "                              input_length=max_len, weights=[embedding_matrix],\n",
        "                              trainable=False), SimpleRNN(128),\n",
        "                              Dense(20, activation='sigmoid')])\n",
        "\n",
        "model_rnn.compile(optimizer='adam', loss='binary_crossentropy', metrics=['accuracy'])\n",
        "\n",
        "history_rnn = model_rnn.fit(X_train, Y_train, validation_data=(X_val, Y_val), epochs=20, batch_size=32)\n"
      ],
      "metadata": {
        "colab": {
          "base_uri": "https://localhost:8080/"
        },
        "id": "J_8Nsmd0sTfL",
        "outputId": "847b40e4-7305-4965-e86e-085691f87d3e"
      },
      "execution_count": null,
      "outputs": [
        {
          "output_type": "stream",
          "name": "stderr",
          "text": [
            "/usr/local/lib/python3.10/dist-packages/keras/src/layers/core/embedding.py:90: UserWarning: Argument `input_length` is deprecated. Just remove it.\n",
            "  warnings.warn(\n"
          ]
        },
        {
          "output_type": "stream",
          "name": "stdout",
          "text": [
            "Epoch 1/20\n",
            "\u001b[1m22/22\u001b[0m \u001b[32m━━━━━━━━━━━━━━━━━━━━\u001b[0m\u001b[37m\u001b[0m \u001b[1m5s\u001b[0m 90ms/step - accuracy: 0.0372 - loss: 0.6046 - val_accuracy: 0.1500 - val_loss: 0.3467\n",
            "Epoch 2/20\n",
            "\u001b[1m22/22\u001b[0m \u001b[32m━━━━━━━━━━━━━━━━━━━━\u001b[0m\u001b[37m\u001b[0m \u001b[1m2s\u001b[0m 69ms/step - accuracy: 0.1966 - loss: 0.3321 - val_accuracy: 0.1500 - val_loss: 0.3228\n",
            "Epoch 3/20\n",
            "\u001b[1m22/22\u001b[0m \u001b[32m━━━━━━━━━━━━━━━━━━━━\u001b[0m\u001b[37m\u001b[0m \u001b[1m1s\u001b[0m 37ms/step - accuracy: 0.2193 - loss: 0.3200 - val_accuracy: 0.1500 - val_loss: 0.3225\n",
            "Epoch 4/20\n",
            "\u001b[1m22/22\u001b[0m \u001b[32m━━━━━━━━━━━━━━━━━━━━\u001b[0m\u001b[37m\u001b[0m \u001b[1m1s\u001b[0m 37ms/step - accuracy: 0.2047 - loss: 0.3213 - val_accuracy: 0.1500 - val_loss: 0.3205\n",
            "Epoch 5/20\n",
            "\u001b[1m22/22\u001b[0m \u001b[32m━━━━━━━━━━━━━━━━━━━━\u001b[0m\u001b[37m\u001b[0m \u001b[1m1s\u001b[0m 39ms/step - accuracy: 0.2116 - loss: 0.3186 - val_accuracy: 0.1500 - val_loss: 0.3206\n",
            "Epoch 6/20\n",
            "\u001b[1m22/22\u001b[0m \u001b[32m━━━━━━━━━━━━━━━━━━━━\u001b[0m\u001b[37m\u001b[0m \u001b[1m1s\u001b[0m 37ms/step - accuracy: 0.1956 - loss: 0.3220 - val_accuracy: 0.1500 - val_loss: 0.3215\n",
            "Epoch 7/20\n",
            "\u001b[1m22/22\u001b[0m \u001b[32m━━━━━━━━━━━━━━━━━━━━\u001b[0m\u001b[37m\u001b[0m \u001b[1m1s\u001b[0m 37ms/step - accuracy: 0.1708 - loss: 0.3213 - val_accuracy: 0.1500 - val_loss: 0.3197\n",
            "Epoch 8/20\n",
            "\u001b[1m22/22\u001b[0m \u001b[32m━━━━━━━━━━━━━━━━━━━━\u001b[0m\u001b[37m\u001b[0m \u001b[1m1s\u001b[0m 36ms/step - accuracy: 0.2005 - loss: 0.3169 - val_accuracy: 0.1500 - val_loss: 0.3200\n",
            "Epoch 9/20\n",
            "\u001b[1m22/22\u001b[0m \u001b[32m━━━━━━━━━━━━━━━━━━━━\u001b[0m\u001b[37m\u001b[0m \u001b[1m1s\u001b[0m 36ms/step - accuracy: 0.2115 - loss: 0.3201 - val_accuracy: 0.1500 - val_loss: 0.3212\n",
            "Epoch 10/20\n",
            "\u001b[1m22/22\u001b[0m \u001b[32m━━━━━━━━━━━━━━━━━━━━\u001b[0m\u001b[37m\u001b[0m \u001b[1m1s\u001b[0m 36ms/step - accuracy: 0.1801 - loss: 0.3210 - val_accuracy: 0.1500 - val_loss: 0.3218\n",
            "Epoch 11/20\n",
            "\u001b[1m22/22\u001b[0m \u001b[32m━━━━━━━━━━━━━━━━━━━━\u001b[0m\u001b[37m\u001b[0m \u001b[1m1s\u001b[0m 36ms/step - accuracy: 0.2080 - loss: 0.3151 - val_accuracy: 0.1500 - val_loss: 0.3215\n",
            "Epoch 12/20\n",
            "\u001b[1m22/22\u001b[0m \u001b[32m━━━━━━━━━━━━━━━━━━━━\u001b[0m\u001b[37m\u001b[0m \u001b[1m1s\u001b[0m 37ms/step - accuracy: 0.2018 - loss: 0.3232 - val_accuracy: 0.1500 - val_loss: 0.3227\n",
            "Epoch 13/20\n",
            "\u001b[1m22/22\u001b[0m \u001b[32m━━━━━━━━━━━━━━━━━━━━\u001b[0m\u001b[37m\u001b[0m \u001b[1m2s\u001b[0m 57ms/step - accuracy: 0.2016 - loss: 0.3215 - val_accuracy: 0.1500 - val_loss: 0.3218\n",
            "Epoch 14/20\n",
            "\u001b[1m22/22\u001b[0m \u001b[32m━━━━━━━━━━━━━━━━━━━━\u001b[0m\u001b[37m\u001b[0m \u001b[1m1s\u001b[0m 67ms/step - accuracy: 0.2143 - loss: 0.3193 - val_accuracy: 0.1500 - val_loss: 0.3224\n",
            "Epoch 15/20\n",
            "\u001b[1m22/22\u001b[0m \u001b[32m━━━━━━━━━━━━━━━━━━━━\u001b[0m\u001b[37m\u001b[0m \u001b[1m1s\u001b[0m 66ms/step - accuracy: 0.2181 - loss: 0.3122 - val_accuracy: 0.1500 - val_loss: 0.3201\n",
            "Epoch 16/20\n",
            "\u001b[1m22/22\u001b[0m \u001b[32m━━━━━━━━━━━━━━━━━━━━\u001b[0m\u001b[37m\u001b[0m \u001b[1m2s\u001b[0m 68ms/step - accuracy: 0.2303 - loss: 0.3190 - val_accuracy: 0.1500 - val_loss: 0.3216\n",
            "Epoch 17/20\n",
            "\u001b[1m22/22\u001b[0m \u001b[32m━━━━━━━━━━━━━━━━━━━━\u001b[0m\u001b[37m\u001b[0m \u001b[1m2s\u001b[0m 64ms/step - accuracy: 0.2051 - loss: 0.3180 - val_accuracy: 0.1500 - val_loss: 0.3200\n",
            "Epoch 18/20\n",
            "\u001b[1m22/22\u001b[0m \u001b[32m━━━━━━━━━━━━━━━━━━━━\u001b[0m\u001b[37m\u001b[0m \u001b[1m1s\u001b[0m 66ms/step - accuracy: 0.1933 - loss: 0.3127 - val_accuracy: 0.1500 - val_loss: 0.3190\n",
            "Epoch 19/20\n",
            "\u001b[1m22/22\u001b[0m \u001b[32m━━━━━━━━━━━━━━━━━━━━\u001b[0m\u001b[37m\u001b[0m \u001b[1m3s\u001b[0m 68ms/step - accuracy: 0.1981 - loss: 0.3157 - val_accuracy: 0.1500 - val_loss: 0.3215\n",
            "Epoch 20/20\n",
            "\u001b[1m22/22\u001b[0m \u001b[32m━━━━━━━━━━━━━━━━━━━━\u001b[0m\u001b[37m\u001b[0m \u001b[1m2s\u001b[0m 35ms/step - accuracy: 0.2051 - loss: 0.3173 - val_accuracy: 0.1500 - val_loss: 0.3203\n"
          ]
        }
      ]
    },
    {
      "cell_type": "markdown",
      "source": [
        "### LSTM Model"
      ],
      "metadata": {
        "id": "nOaS3BTU2GCI"
      }
    },
    {
      "cell_type": "code",
      "source": [
        "model_lstm = Sequential([\n",
        "    Embedding(input_dim=vocab_size, output_dim=embedding_dim, input_length=max_len,\n",
        "              weights=[embedding_matrix], trainable=False),\n",
        "    LSTM(128),\n",
        "    Dense(20, activation='sigmoid')\n",
        "])\n",
        "\n",
        "model_lstm.compile(optimizer='adam', loss='binary_crossentropy', metrics=['accuracy'])\n",
        "\n",
        "history_lstm = model_lstm.fit(X_train, Y_train, validation_data=(X_val, Y_val), epochs=20, batch_size=32)\n"
      ],
      "metadata": {
        "colab": {
          "base_uri": "https://localhost:8080/"
        },
        "id": "pewKENjk2H0r",
        "outputId": "b56cdfce-94cc-431b-f32e-df09a017c1c0"
      },
      "execution_count": null,
      "outputs": [
        {
          "output_type": "stream",
          "name": "stdout",
          "text": [
            "Epoch 1/20\n",
            "\u001b[1m22/22\u001b[0m \u001b[32m━━━━━━━━━━━━━━━━━━━━\u001b[0m\u001b[37m\u001b[0m \u001b[1m5s\u001b[0m 150ms/step - accuracy: 0.1998 - loss: 0.6238 - val_accuracy: 0.1500 - val_loss: 0.3343\n",
            "Epoch 2/20\n",
            "\u001b[1m22/22\u001b[0m \u001b[32m━━━━━━━━━━━━━━━━━━━━\u001b[0m\u001b[37m\u001b[0m \u001b[1m3s\u001b[0m 144ms/step - accuracy: 0.1986 - loss: 0.3242 - val_accuracy: 0.1500 - val_loss: 0.3195\n",
            "Epoch 3/20\n",
            "\u001b[1m22/22\u001b[0m \u001b[32m━━━━━━━━━━━━━━━━━━━━\u001b[0m\u001b[37m\u001b[0m \u001b[1m6s\u001b[0m 258ms/step - accuracy: 0.1892 - loss: 0.3098 - val_accuracy: 0.1500 - val_loss: 0.3195\n",
            "Epoch 4/20\n",
            "\u001b[1m22/22\u001b[0m \u001b[32m━━━━━━━━━━━━━━━━━━━━\u001b[0m\u001b[37m\u001b[0m \u001b[1m9s\u001b[0m 215ms/step - accuracy: 0.2081 - loss: 0.3184 - val_accuracy: 0.1500 - val_loss: 0.3203\n",
            "Epoch 5/20\n",
            "\u001b[1m22/22\u001b[0m \u001b[32m━━━━━━━━━━━━━━━━━━━━\u001b[0m\u001b[37m\u001b[0m \u001b[1m3s\u001b[0m 134ms/step - accuracy: 0.2045 - loss: 0.3152 - val_accuracy: 0.1500 - val_loss: 0.3212\n",
            "Epoch 6/20\n",
            "\u001b[1m22/22\u001b[0m \u001b[32m━━━━━━━━━━━━━━━━━━━━\u001b[0m\u001b[37m\u001b[0m \u001b[1m3s\u001b[0m 148ms/step - accuracy: 0.2014 - loss: 0.3141 - val_accuracy: 0.1500 - val_loss: 0.3213\n",
            "Epoch 7/20\n",
            "\u001b[1m22/22\u001b[0m \u001b[32m━━━━━━━━━━━━━━━━━━━━\u001b[0m\u001b[37m\u001b[0m \u001b[1m8s\u001b[0m 263ms/step - accuracy: 0.1987 - loss: 0.3182 - val_accuracy: 0.1500 - val_loss: 0.3207\n",
            "Epoch 8/20\n",
            "\u001b[1m22/22\u001b[0m \u001b[32m━━━━━━━━━━━━━━━━━━━━\u001b[0m\u001b[37m\u001b[0m \u001b[1m8s\u001b[0m 173ms/step - accuracy: 0.1695 - loss: 0.3161 - val_accuracy: 0.1500 - val_loss: 0.3202\n",
            "Epoch 9/20\n",
            "\u001b[1m22/22\u001b[0m \u001b[32m━━━━━━━━━━━━━━━━━━━━\u001b[0m\u001b[37m\u001b[0m \u001b[1m4s\u001b[0m 139ms/step - accuracy: 0.1825 - loss: 0.3183 - val_accuracy: 0.1500 - val_loss: 0.3232\n",
            "Epoch 10/20\n",
            "\u001b[1m22/22\u001b[0m \u001b[32m━━━━━━━━━━━━━━━━━━━━\u001b[0m\u001b[37m\u001b[0m \u001b[1m3s\u001b[0m 139ms/step - accuracy: 0.1797 - loss: 0.3141 - val_accuracy: 0.1500 - val_loss: 0.3195\n",
            "Epoch 11/20\n",
            "\u001b[1m22/22\u001b[0m \u001b[32m━━━━━━━━━━━━━━━━━━━━\u001b[0m\u001b[37m\u001b[0m \u001b[1m8s\u001b[0m 269ms/step - accuracy: 0.1831 - loss: 0.3174 - val_accuracy: 0.1500 - val_loss: 0.3198\n",
            "Epoch 12/20\n",
            "\u001b[1m22/22\u001b[0m \u001b[32m━━━━━━━━━━━━━━━━━━━━\u001b[0m\u001b[37m\u001b[0m \u001b[1m7s\u001b[0m 135ms/step - accuracy: 0.1882 - loss: 0.3185 - val_accuracy: 0.1500 - val_loss: 0.3207\n",
            "Epoch 13/20\n",
            "\u001b[1m22/22\u001b[0m \u001b[32m━━━━━━━━━━━━━━━━━━━━\u001b[0m\u001b[37m\u001b[0m \u001b[1m5s\u001b[0m 137ms/step - accuracy: 0.1933 - loss: 0.3204 - val_accuracy: 0.1500 - val_loss: 0.3209\n",
            "Epoch 14/20\n",
            "\u001b[1m22/22\u001b[0m \u001b[32m━━━━━━━━━━━━━━━━━━━━\u001b[0m\u001b[37m\u001b[0m \u001b[1m8s\u001b[0m 283ms/step - accuracy: 0.2059 - loss: 0.3208 - val_accuracy: 0.1500 - val_loss: 0.3198\n",
            "Epoch 15/20\n",
            "\u001b[1m22/22\u001b[0m \u001b[32m━━━━━━━━━━━━━━━━━━━━\u001b[0m\u001b[37m\u001b[0m \u001b[1m8s\u001b[0m 163ms/step - accuracy: 0.1974 - loss: 0.3188 - val_accuracy: 0.1500 - val_loss: 0.3215\n",
            "Epoch 16/20\n",
            "\u001b[1m22/22\u001b[0m \u001b[32m━━━━━━━━━━━━━━━━━━━━\u001b[0m\u001b[37m\u001b[0m \u001b[1m4s\u001b[0m 135ms/step - accuracy: 0.1947 - loss: 0.3157 - val_accuracy: 0.1500 - val_loss: 0.3205\n",
            "Epoch 17/20\n",
            "\u001b[1m22/22\u001b[0m \u001b[32m━━━━━━━━━━━━━━━━━━━━\u001b[0m\u001b[37m\u001b[0m \u001b[1m7s\u001b[0m 216ms/step - accuracy: 0.1788 - loss: 0.3131 - val_accuracy: 0.1500 - val_loss: 0.3204\n",
            "Epoch 18/20\n",
            "\u001b[1m22/22\u001b[0m \u001b[32m━━━━━━━━━━━━━━━━━━━━\u001b[0m\u001b[37m\u001b[0m \u001b[1m6s\u001b[0m 274ms/step - accuracy: 0.1910 - loss: 0.3175 - val_accuracy: 0.1500 - val_loss: 0.3213\n",
            "Epoch 19/20\n",
            "\u001b[1m22/22\u001b[0m \u001b[32m━━━━━━━━━━━━━━━━━━━━\u001b[0m\u001b[37m\u001b[0m \u001b[1m7s\u001b[0m 137ms/step - accuracy: 0.1832 - loss: 0.3205 - val_accuracy: 0.1500 - val_loss: 0.3225\n",
            "Epoch 20/20\n",
            "\u001b[1m22/22\u001b[0m \u001b[32m━━━━━━━━━━━━━━━━━━━━\u001b[0m\u001b[37m\u001b[0m \u001b[1m5s\u001b[0m 137ms/step - accuracy: 0.2020 - loss: 0.3185 - val_accuracy: 0.1500 - val_loss: 0.3201\n"
          ]
        }
      ]
    },
    {
      "cell_type": "markdown",
      "source": [
        "## Step 5 - Evaluation of models"
      ],
      "metadata": {
        "id": "lQwEol5O3SJ0"
      }
    },
    {
      "cell_type": "code",
      "source": [
        "# Evaluate RNN\n",
        "test_loss_rnn, test_accuracy_rnn = model_rnn.evaluate(X_test, Y_test)\n",
        "print(f\"RNN Test Loss: {test_loss_rnn}, Test Accuracy: {test_accuracy_rnn}\")\n",
        "\n",
        "# Evaluate LSTM\n",
        "test_loss_lstm, test_accuracy_lstm = model_lstm.evaluate(X_test, Y_test)\n",
        "print(f\"LSTM Test Loss: {test_loss_lstm}, Test Accuracy: {test_accuracy_lstm}\")"
      ],
      "metadata": {
        "colab": {
          "base_uri": "https://localhost:8080/"
        },
        "id": "AylGqI-23UGh",
        "outputId": "bf23443a-cfe4-41f5-f4e5-2f0710319e6e"
      },
      "execution_count": null,
      "outputs": [
        {
          "output_type": "stream",
          "name": "stdout",
          "text": [
            "\u001b[1m7/7\u001b[0m \u001b[32m━━━━━━━━━━━━━━━━━━━━\u001b[0m\u001b[37m\u001b[0m \u001b[1m0s\u001b[0m 18ms/step - accuracy: 0.2011 - loss: 0.3184\n",
            "RNN Test Loss: 0.31691333651542664, Test Accuracy: 0.2150000035762787\n",
            "\u001b[1m7/7\u001b[0m \u001b[32m━━━━━━━━━━━━━━━━━━━━\u001b[0m\u001b[37m\u001b[0m \u001b[1m1s\u001b[0m 82ms/step - accuracy: 0.2011 - loss: 0.3178\n",
            "LSTM Test Loss: 0.31583863496780396, Test Accuracy: 0.2150000035762787\n"
          ]
        }
      ]
    },
    {
      "cell_type": "markdown",
      "source": [
        "## Step 6 - Plot Metrics"
      ],
      "metadata": {
        "id": "gvPKYWh73sKB"
      }
    },
    {
      "cell_type": "code",
      "source": [
        "# Plot accuracy for RNN and LSTM\n",
        "plt.plot(history_rnn.history['accuracy'], label='RNN Train Accuracy')\n",
        "plt.plot(history_rnn.history['val_accuracy'], label='RNN Val Accuracy')\n",
        "plt.plot(history_lstm.history['accuracy'], label='LSTM Train Accuracy')\n",
        "plt.plot(history_lstm.history['val_accuracy'], label='LSTM Val Accuracy')\n",
        "plt.title('Train vs Validation Accuracy')\n",
        "plt.xlabel('Epochs')\n",
        "plt.ylabel('Accuracy')\n",
        "plt.legend()\n",
        "plt.show()\n",
        "\n",
        "# Plot loss for RNN and LSTM\n",
        "plt.plot(history_rnn.history['loss'], label='RNN Train Loss')\n",
        "plt.plot(history_rnn.history['val_loss'], label='RNN Val Loss')\n",
        "plt.plot(history_lstm.history['loss'], label='LSTM Train Loss')\n",
        "plt.plot(history_lstm.history['val_loss'], label='LSTM Val Loss')\n",
        "plt.title('Train vs Validation Loss')\n",
        "plt.xlabel('Epochs')\n",
        "plt.ylabel('Loss')\n",
        "plt.legend()\n",
        "plt.show()"
      ],
      "metadata": {
        "colab": {
          "base_uri": "https://localhost:8080/",
          "height": 72
        },
        "id": "QOYSyKW93uCk",
        "outputId": "9ec3caf9-3ebe-478f-bf4f-ff90ff30470f"
      },
      "execution_count": null,
      "outputs": [
        {
          "output_type": "display_data",
          "data": {
            "text/plain": [
              "<Figure size 640x480 with 1 Axes>"
            ],
            "image/png": "[encoded data removed]"
          },
          "metadata": {}
        },
        {
          "output_type": "display_data",
          "data": {
            "text/plain": [
              "<Figure size 640x480 with 1 Axes>"
            ],
            "image/png": "[encoded data removed]"
          },
          "metadata": {}
        }
      ]
    },
    {
      "cell_type": "markdown",
      "source": [
        "## Step 7 - Add in Movie Titles"
      ],
      "metadata": {
        "id": "dwzatHxn4VwZ"
      }
    },
    {
      "cell_type": "code",
      "source": [
        "# Combine Title and Description\n",
        "data['Combined'] = data['Title'] + \" \" + data['Description']\n",
        "\n",
        "# Refit tokenizer on the combined column\n",
        "tokenizer = Tokenizer()\n",
        "tokenizer.fit_on_texts(data['Combined'])\n",
        "sequences_combined = tokenizer.texts_to_sequences(data['Combined'])\n",
        "\n",
        "# Rebuild padded sequences\n",
        "X_combined = pad_sequences(sequences_combined, maxlen=max_len, padding='post')\n",
        "\n",
        "X_train_combined, Y_train = X_combined[:700], Y[:700]\n",
        "X_val_combined, Y_val = X_combined[700:800], Y[700:800]\n",
        "X_test_combined, Y_test = X_combined[800:], Y[800:]\n",
        "# Update vocabulary size\n",
        "vocab_size = len(tokenizer.word_index) + 1\n",
        "\n",
        "\n",
        "# Create a new embedding matrix for the combined vocabulary\n",
        "embedding_matrix = np.zeros((vocab_size, embedding_dim))\n",
        "\n",
        "for word, i in tokenizer.word_index.items():\n",
        "    embedding_vector = embeddings_index.get(word)  # Retrieve GloVe vector\n",
        "    if embedding_vector is not None:\n",
        "        embedding_matrix[i] = embedding_vector\n",
        "\n",
        "\n",
        "model_lstm = Sequential([\n",
        "    Embedding(input_dim=vocab_size, output_dim=embedding_dim, input_length=max_len, weights=[embedding_matrix], trainable=False),\n",
        "    LSTM(128),\n",
        "    Dense(20, activation='sigmoid')\n",
        "])\n",
        "\n",
        "print(f\"Max index in X_combined: {X_combined.max()}\")\n",
        "print(f\"Vocab size: {vocab_size}\")\n",
        "\n",
        "model_lstm.compile(optimizer='adam', loss='binary_crossentropy', metrics=['accuracy'])\n",
        "\n",
        "# Train the LSTM model for 20 epochs\n",
        "history_combined = model_lstm.fit(\n",
        "    X_train_combined, Y_train,\n",
        "    validation_data=(X_val_combined, Y_val),\n",
        "    epochs=20,\n",
        "    batch_size=32\n",
        ")\n",
        "\n",
        "# Evaluate the model on the test set\n",
        "test_loss_combined, test_accuracy_combined = model_lstm.evaluate(X_test_combined, Y_test)\n",
        "print(f\"Test Loss: {test_loss_combined}\")\n",
        "print(f\"Test Accuracy: {test_accuracy_combined}\")\n",
        "\n"
      ],
      "metadata": {
        "colab": {
          "base_uri": "https://localhost:8080/"
        },
        "id": "bZHg552-5-qO",
        "outputId": "ad867222-6e40-4da4-a390-5d09e250dc76"
      },
      "execution_count": null,
      "outputs": [
        {
          "output_type": "stream",
          "name": "stdout",
          "text": [
            "Max index in X_combined: 5874\n",
            "Vocab size: 5875\n",
            "Epoch 1/20\n"
          ]
        },
        {
          "output_type": "stream",
          "name": "stderr",
          "text": [
            "/usr/local/lib/python3.10/dist-packages/keras/src/layers/core/embedding.py:90: UserWarning: Argument `input_length` is deprecated. Just remove it.\n",
            "  warnings.warn(\n"
          ]
        },
        {
          "output_type": "stream",
          "name": "stdout",
          "text": [
            "\u001b[1m22/22\u001b[0m \u001b[32m━━━━━━━━━━━━━━━━━━━━\u001b[0m\u001b[37m\u001b[0m \u001b[1m13s\u001b[0m 420ms/step - accuracy: 0.0294 - loss: 0.6191 - val_accuracy: 0.1500 - val_loss: 0.3312\n",
            "Epoch 2/20\n",
            "\u001b[1m22/22\u001b[0m \u001b[32m━━━━━━━━━━━━━━━━━━━━\u001b[0m\u001b[37m\u001b[0m \u001b[1m7s\u001b[0m 274ms/step - accuracy: 0.1796 - loss: 0.3265 - val_accuracy: 0.1500 - val_loss: 0.3222\n",
            "Epoch 3/20\n",
            "\u001b[1m22/22\u001b[0m \u001b[32m━━━━━━━━━━━━━━━━━━━━\u001b[0m\u001b[37m\u001b[0m \u001b[1m7s\u001b[0m 145ms/step - accuracy: 0.1742 - loss: 0.3168 - val_accuracy: 0.1500 - val_loss: 0.3193\n",
            "Epoch 4/20\n",
            "\u001b[1m22/22\u001b[0m \u001b[32m━━━━━━━━━━━━━━━━━━━━\u001b[0m\u001b[37m\u001b[0m \u001b[1m7s\u001b[0m 238ms/step - accuracy: 0.1859 - loss: 0.3171 - val_accuracy: 0.1500 - val_loss: 0.3211\n",
            "Epoch 5/20\n",
            "\u001b[1m22/22\u001b[0m \u001b[32m━━━━━━━━━━━━━━━━━━━━\u001b[0m\u001b[37m\u001b[0m \u001b[1m7s\u001b[0m 298ms/step - accuracy: 0.1926 - loss: 0.3191 - val_accuracy: 0.1500 - val_loss: 0.3189\n",
            "Epoch 6/20\n",
            "\u001b[1m22/22\u001b[0m \u001b[32m━━━━━━━━━━━━━━━━━━━━\u001b[0m\u001b[37m\u001b[0m \u001b[1m7s\u001b[0m 137ms/step - accuracy: 0.2129 - loss: 0.3205 - val_accuracy: 0.1500 - val_loss: 0.3195\n",
            "Epoch 7/20\n",
            "\u001b[1m22/22\u001b[0m \u001b[32m━━━━━━━━━━━━━━━━━━━━\u001b[0m\u001b[37m\u001b[0m \u001b[1m3s\u001b[0m 135ms/step - accuracy: 0.1927 - loss: 0.3181 - val_accuracy: 0.1500 - val_loss: 0.3239\n",
            "Epoch 8/20\n",
            "\u001b[1m22/22\u001b[0m \u001b[32m━━━━━━━━━━━━━━━━━━━━\u001b[0m\u001b[37m\u001b[0m \u001b[1m7s\u001b[0m 241ms/step - accuracy: 0.1991 - loss: 0.3134 - val_accuracy: 0.1500 - val_loss: 0.3182\n",
            "Epoch 9/20\n",
            "\u001b[1m22/22\u001b[0m \u001b[32m━━━━━━━━━━━━━━━━━━━━\u001b[0m\u001b[37m\u001b[0m \u001b[1m10s\u001b[0m 210ms/step - accuracy: 0.2069 - loss: 0.3168 - val_accuracy: 0.1500 - val_loss: 0.3193\n",
            "Epoch 10/20\n",
            "\u001b[1m22/22\u001b[0m \u001b[32m━━━━━━━━━━━━━━━━━━━━\u001b[0m\u001b[37m\u001b[0m \u001b[1m3s\u001b[0m 139ms/step - accuracy: 0.1810 - loss: 0.3151 - val_accuracy: 0.1500 - val_loss: 0.3207\n",
            "Epoch 11/20\n",
            "\u001b[1m22/22\u001b[0m \u001b[32m━━━━━━━━━━━━━━━━━━━━\u001b[0m\u001b[37m\u001b[0m \u001b[1m3s\u001b[0m 136ms/step - accuracy: 0.1996 - loss: 0.3168 - val_accuracy: 0.1500 - val_loss: 0.3213\n",
            "Epoch 12/20\n",
            "\u001b[1m22/22\u001b[0m \u001b[32m━━━━━━━━━━━━━━━━━━━━\u001b[0m\u001b[37m\u001b[0m \u001b[1m7s\u001b[0m 245ms/step - accuracy: 0.2011 - loss: 0.3169 - val_accuracy: 0.1500 - val_loss: 0.3235\n",
            "Epoch 13/20\n",
            "\u001b[1m22/22\u001b[0m \u001b[32m━━━━━━━━━━━━━━━━━━━━\u001b[0m\u001b[37m\u001b[0m \u001b[1m9s\u001b[0m 189ms/step - accuracy: 0.1922 - loss: 0.3156 - val_accuracy: 0.1500 - val_loss: 0.3207\n",
            "Epoch 14/20\n",
            "\u001b[1m22/22\u001b[0m \u001b[32m━━━━━━━━━━━━━━━━━━━━\u001b[0m\u001b[37m\u001b[0m \u001b[1m3s\u001b[0m 139ms/step - accuracy: 0.2107 - loss: 0.3152 - val_accuracy: 0.1500 - val_loss: 0.3197\n",
            "Epoch 15/20\n",
            "\u001b[1m22/22\u001b[0m \u001b[32m━━━━━━━━━━━━━━━━━━━━\u001b[0m\u001b[37m\u001b[0m \u001b[1m5s\u001b[0m 137ms/step - accuracy: 0.1767 - loss: 0.3183 - val_accuracy: 0.1500 - val_loss: 0.3239\n",
            "Epoch 16/20\n",
            "\u001b[1m22/22\u001b[0m \u001b[32m━━━━━━━━━━━━━━━━━━━━\u001b[0m\u001b[37m\u001b[0m \u001b[1m8s\u001b[0m 272ms/step - accuracy: 0.1914 - loss: 0.3170 - val_accuracy: 0.1500 - val_loss: 0.3215\n",
            "Epoch 17/20\n",
            "\u001b[1m22/22\u001b[0m \u001b[32m━━━━━━━━━━━━━━━━━━━━\u001b[0m\u001b[37m\u001b[0m \u001b[1m7s\u001b[0m 138ms/step - accuracy: 0.1920 - loss: 0.3165 - val_accuracy: 0.1500 - val_loss: 0.3228\n",
            "Epoch 18/20\n",
            "\u001b[1m22/22\u001b[0m \u001b[32m━━━━━━━━━━━━━━━━━━━━\u001b[0m\u001b[37m\u001b[0m \u001b[1m5s\u001b[0m 137ms/step - accuracy: 0.1871 - loss: 0.3168 - val_accuracy: 0.1500 - val_loss: 0.3197\n",
            "Epoch 19/20\n",
            "\u001b[1m22/22\u001b[0m \u001b[32m━━━━━━━━━━━━━━━━━━━━\u001b[0m\u001b[37m\u001b[0m \u001b[1m8s\u001b[0m 284ms/step - accuracy: 0.1993 - loss: 0.3187 - val_accuracy: 0.1500 - val_loss: 0.3212\n",
            "Epoch 20/20\n",
            "\u001b[1m22/22\u001b[0m \u001b[32m━━━━━━━━━━━━━━━━━━━━\u001b[0m\u001b[37m\u001b[0m \u001b[1m7s\u001b[0m 135ms/step - accuracy: 0.1781 - loss: 0.3196 - val_accuracy: 0.1500 - val_loss: 0.3197\n",
            "\u001b[1m7/7\u001b[0m \u001b[32m━━━━━━━━━━━━━━━━━━━━\u001b[0m\u001b[37m\u001b[0m \u001b[1m0s\u001b[0m 43ms/step - accuracy: 0.2011 - loss: 0.3163\n",
            "Test Loss: 0.3146721422672272\n",
            "Test Accuracy: 0.2150000035762787\n"
          ]
        }
      ]
    },
    {
      "cell_type": "markdown",
      "source": [
        "## Step 8 - Plotting and Saving total Metrics"
      ],
      "metadata": {
        "id": "EUO3AMXJBFcI"
      }
    },
    {
      "cell_type": "code",
      "source": [
        "from sklearn.metrics import precision_score, recall_score, f1_score\n",
        "\n",
        "# Models and their evaluation metrics\n",
        "models = ['RNN', 'LSTM', 'LSTM (Title + Description)']\n",
        "\n",
        "# Test loss and accuracy from model evaluation\n",
        "test_loss = [test_loss_rnn, test_loss_lstm, test_loss_combined]\n",
        "test_accuracy = [test_accuracy_rnn, test_accuracy_lstm, test_accuracy_combined]\n",
        "\n",
        "# Predictions for each model\n",
        "y_pred_rnn = (model_rnn.predict(X_test) > 0.5).astype(int)\n",
        "y_pred_lstm = (model_lstm.predict(X_test) > 0.5).astype(int)\n",
        "y_pred_combined = (model_lstm.predict(X_test_combined) > 0.5).astype(int)\n",
        "\n",
        "# Precision, Recall, and F1 Score for each model\n",
        "precision = [\n",
        "    precision_score(Y_test, y_pred_rnn, average='micro'),\n",
        "    precision_score(Y_test, y_pred_lstm, average='micro'),\n",
        "    precision_score(Y_test, y_pred_combined, average='micro')\n",
        "]\n",
        "\n",
        "recall = [\n",
        "    recall_score(Y_test, y_pred_rnn, average='micro'),\n",
        "    recall_score(Y_test, y_pred_lstm, average='micro'),\n",
        "    recall_score(Y_test, y_pred_combined, average='micro')\n",
        "]\n",
        "\n",
        "f1 = [\n",
        "    f1_score(Y_test, y_pred_rnn, average='micro'),\n",
        "    f1_score(Y_test, y_pred_lstm, average='micro'),\n",
        "    f1_score(Y_test, y_pred_combined, average='micro')\n",
        "]\n",
        "\n",
        "# Create a DataFrame for comparison\n",
        "results_df = pd.DataFrame({\n",
        "    'Model': models,\n",
        "    'Test Loss': test_loss,\n",
        "    'Test Accuracy': test_accuracy,\n",
        "    'Precision': precision,\n",
        "    'Recall': recall,\n",
        "    'F1 Score': f1\n",
        "})\n",
        "\n",
        "results_df.to_csv('model_evaluation.csv', index=False)\n",
        "# Display the results\n",
        "results_df.head()\n",
        "\n"
      ],
      "metadata": {
        "colab": {
          "base_uri": "https://localhost:8080/",
          "height": 199
        },
        "id": "uHUb_RvV_mNX",
        "outputId": "1734da24-247e-4151-ae03-6eee45b19d15"
      },
      "execution_count": null,
      "outputs": [
        {
          "output_type": "stream",
          "name": "stdout",
          "text": [
            "\u001b[1m7/7\u001b[0m \u001b[32m━━━━━━━━━━━━━━━━━━━━\u001b[0m\u001b[37m\u001b[0m \u001b[1m1s\u001b[0m 58ms/step\n",
            "\u001b[1m7/7\u001b[0m \u001b[32m━━━━━━━━━━━━━━━━━━━━\u001b[0m\u001b[37m\u001b[0m \u001b[1m1s\u001b[0m 128ms/step\n",
            "\u001b[1m7/7\u001b[0m \u001b[32m━━━━━━━━━━━━━━━━━━━━\u001b[0m\u001b[37m\u001b[0m \u001b[1m1s\u001b[0m 85ms/step\n"
          ]
        },
        {
          "output_type": "execute_result",
          "data": {
            "text/plain": [
              "                        Model  Test Loss  Test Accuracy  Precision    Recall  \\\n",
              "0                         RNN   0.316913          0.215       0.53  0.215447   \n",
              "1                        LSTM   0.315839          0.215       0.53  0.215447   \n",
              "2  LSTM (Title + Description)   0.314672          0.215       0.53  0.215447   \n",
              "\n",
              "   F1 Score  \n",
              "0  0.306358  \n",
              "1  0.306358  \n",
              "2  0.306358  "
            ],
            "text/html": [
              "\n",
              "  <div id=\"df-cb4abacf-5cb0-4da6-adc8-944c4a685f9b\" class=\"colab-df-container\">\n",
              "    <div>\n",
              "<style scoped>\n",
              "    .dataframe tbody tr th:only-of-type {\n",
              "        vertical-align: middle;\n",
              "    }\n",
              "\n",
              "    .dataframe tbody tr th {\n",
              "        vertical-align: top;\n",
              "    }\n",
              "\n",
              "    .dataframe thead th {\n",
              "        text-align: right;\n",
              "    }\n",
              "</style>\n",
              "<table border=\"1\" class=\"dataframe\">\n",
              "  <thead>\n",
              "    <tr style=\"text-align: right;\">\n",
              "      <th></th>\n",
              "      <th>Model</th>\n",
              "      <th>Test Loss</th>\n",
              "      <th>Test Accuracy</th>\n",
              "      <th>Precision</th>\n",
              "      <th>Recall</th>\n",
              "      <th>F1 Score</th>\n",
              "    </tr>\n",
              "  </thead>\n",
              "  <tbody>\n",
              "    <tr>\n",
              "      <th>0</th>\n",
              "      <td>RNN</td>\n",
              "      <td>0.316913</td>\n",
              "      <td>0.215</td>\n",
              "      <td>0.53</td>\n",
              "      <td>0.215447</td>\n",
              "      <td>0.306358</td>\n",
              "    </tr>\n",
              "    <tr>\n",
              "      <th>1</th>\n",
              "      <td>LSTM</td>\n",
              "      <td>0.315839</td>\n",
              "      <td>0.215</td>\n",
              "      <td>0.53</td>\n",
              "      <td>0.215447</td>\n",
              "      <td>0.306358</td>\n",
              "    </tr>\n",
              "    <tr>\n",
              "      <th>2</th>\n",
              "      <td>LSTM (Title + Description)</td>\n",
              "      <td>0.314672</td>\n",
              "      <td>0.215</td>\n",
              "      <td>0.53</td>\n",
              "      <td>0.215447</td>\n",
              "      <td>0.306358</td>\n",
              "    </tr>\n",
              "  </tbody>\n",
              "</table>\n",
              "</div>\n",
              "    <div class=\"colab-df-buttons\">\n",
              "\n",
              "  <div class=\"colab-df-container\">\n",
              "    <button class=\"colab-df-convert\" onclick=\"convertToInteractive('df-cb4abacf-5cb0-4da6-adc8-944c4a685f9b')\"\n",
              "            title=\"Convert this dataframe to an interactive table.\"\n",
              "            style=\"display:none;\">\n",
              "\n",
              "  <svg xmlns=\"http://www.w3.org/2000/svg\" height=\"24px\" viewBox=\"0 -960 960 960\">\n",
              "    <path d=\"M120-120v-720h720v720H120Zm60-500h600v-160H180v160Zm220 220h160v-160H400v160Zm0 220h160v-160H400v160ZM180-400h160v-160H180v160Zm440 0h160v-160H620v160ZM180-180h160v-160H180v160Zm440 0h160v-160H620v160Z\"/>\n",
              "  </svg>\n",
              "    </button>\n",
              "\n",
              "  <style>\n",
              "    .colab-df-container {\n",
              "      display:flex;\n",
              "      gap: 12px;\n",
              "    }\n",
              "\n",
              "    .colab-df-convert {\n",
              "      background-color: #E8F0FE;\n",
              "      border: none;\n",
              "      border-radius: 50%;\n",
              "      cursor: pointer;\n",
              "      display: none;\n",
              "      fill: #1967D2;\n",
              "      height: 32px;\n",
              "      padding: 0 0 0 0;\n",
              "      width: 32px;\n",
              "    }\n",
              "\n",
              "    .colab-df-convert:hover {\n",
              "      background-color: #E2EBFA;\n",
              "      box-shadow: 0px 1px 2px rgba(60, 64, 67, 0.3), 0px 1px 3px 1px rgba(60, 64, 67, 0.15);\n",
              "      fill: #174EA6;\n",
              "    }\n",
              "\n",
              "    .colab-df-buttons div {\n",
              "      margin-bottom: 4px;\n",
              "    }\n",
              "\n",
              "    [theme=dark] .colab-df-convert {\n",
              "      background-color: #3B4455;\n",
              "      fill: #D2E3FC;\n",
              "    }\n",
              "\n",
              "    [theme=dark] .colab-df-convert:hover {\n",
              "      background-color: #434B5C;\n",
              "      box-shadow: 0px 1px 3px 1px rgba(0, 0, 0, 0.15);\n",
              "      filter: drop-shadow(0px 1px 2px rgba(0, 0, 0, 0.3));\n",
              "      fill: #FFFFFF;\n",
              "    }\n",
              "  </style>\n",
              "\n",
              "    <script>\n",
              "      const buttonEl =\n",
              "        document.querySelector('#df-cb4abacf-5cb0-4da6-adc8-944c4a685f9b button.colab-df-convert');\n",
              "      buttonEl.style.display =\n",
              "        google.colab.kernel.accessAllowed ? 'block' : 'none';\n",
              "\n",
              "      async function convertToInteractive(key) {\n",
              "        const element = document.querySelector('#df-cb4abacf-5cb0-4da6-adc8-944c4a685f9b');\n",
              "        const dataTable =\n",
              "          await google.colab.kernel.invokeFunction('convertToInteractive',\n",
              "                                                    [key], {});\n",
              "        if (!dataTable) return;\n",
              "\n",
              "        const docLinkHtml = 'Like what you see? Visit the ' +\n",
              "          '<a target=\"_blank\" href=https://colab.research.google.com/notebooks/data_table.ipynb>data table notebook</a>'\n",
              "          + ' to learn more about interactive tables.';\n",
              "        element.innerHTML = '';\n",
              "        dataTable['output_type'] = 'display_data';\n",
              "        await google.colab.output.renderOutput(dataTable, element);\n",
              "        const docLink = document.createElement('div');\n",
              "        docLink.innerHTML = docLinkHtml;\n",
              "        element.appendChild(docLink);\n",
              "      }\n",
              "    </script>\n",
              "  </div>\n",
              "\n",
              "\n",
              "<div id=\"df-a2784c54-5717-492c-99ef-af38079b3df5\">\n",
              "  <button class=\"colab-df-quickchart\" onclick=\"quickchart('df-a2784c54-5717-492c-99ef-af38079b3df5')\"\n",
              "            title=\"Suggest charts\"\n",
              "            style=\"display:none;\">\n",
              "\n",
              "<svg xmlns=\"http://www.w3.org/2000/svg\" height=\"24px\"viewBox=\"0 0 24 24\"\n",
              "     width=\"24px\">\n",
              "    <g>\n",
              "        <path d=\"M19 3H5c-1.1 0-2 .9-2 2v14c0 1.1.9 2 2 2h14c1.1 0 2-.9 2-2V5c0-1.1-.9-2-2-2zM9 17H7v-7h2v7zm4 0h-2V7h2v10zm4 0h-2v-4h2v4z\"/>\n",
              "    </g>\n",
              "</svg>\n",
              "  </button>\n",
              "\n",
              "<style>\n",
              "  .colab-df-quickchart {\n",
              "      --bg-color: #E8F0FE;\n",
              "      --fill-color: #1967D2;\n",
              "      --hover-bg-color: #E2EBFA;\n",
              "      --hover-fill-color: #174EA6;\n",
              "      --disabled-fill-color: #AAA;\n",
              "      --disabled-bg-color: #DDD;\n",
              "  }\n",
              "\n",
              "  [theme=dark] .colab-df-quickchart {\n",
              "      --bg-color: #3B4455;\n",
              "      --fill-color: #D2E3FC;\n",
              "      --hover-bg-color: #434B5C;\n",
              "      --hover-fill-color: #FFFFFF;\n",
              "      --disabled-bg-color: #3B4455;\n",
              "      --disabled-fill-color: #666;\n",
              "  }\n",
              "\n",
              "  .colab-df-quickchart {\n",
              "    background-color: var(--bg-color);\n",
              "    border: none;\n",
              "    border-radius: 50%;\n",
              "    cursor: pointer;\n",
              "    display: none;\n",
              "    fill: var(--fill-color);\n",
              "    height: 32px;\n",
              "    padding: 0;\n",
              "    width: 32px;\n",
              "  }\n",
              "\n",
              "  .colab-df-quickchart:hover {\n",
              "    background-color: var(--hover-bg-color);\n",
              "    box-shadow: 0 1px 2px rgba(60, 64, 67, 0.3), 0 1px 3px 1px rgba(60, 64, 67, 0.15);\n",
              "    fill: var(--button-hover-fill-color);\n",
              "  }\n",
              "\n",
              "  .colab-df-quickchart-complete:disabled,\n",
              "  .colab-df-quickchart-complete:disabled:hover {\n",
              "    background-color: var(--disabled-bg-color);\n",
              "    fill: var(--disabled-fill-color);\n",
              "    box-shadow: none;\n",
              "  }\n",
              "\n",
              "  .colab-df-spinner {\n",
              "    border: 2px solid var(--fill-color);\n",
              "    border-color: transparent;\n",
              "    border-bottom-color: var(--fill-color);\n",
              "    animation:\n",
              "      spin 1s steps(1) infinite;\n",
              "  }\n",
              "\n",
              "  @keyframes spin {\n",
              "    0% {\n",
              "      border-color: transparent;\n",
              "      border-bottom-color: var(--fill-color);\n",
              "      border-left-color: var(--fill-color);\n",
              "    }\n",
              "    20% {\n",
              "      border-color: transparent;\n",
              "      border-left-color: var(--fill-color);\n",
              "      border-top-color: var(--fill-color);\n",
              "    }\n",
              "    30% {\n",
              "      border-color: transparent;\n",
              "      border-left-color: var(--fill-color);\n",
              "      border-top-color: var(--fill-color);\n",
              "      border-right-color: var(--fill-color);\n",
              "    }\n",
              "    40% {\n",
              "      border-color: transparent;\n",
              "      border-right-color: var(--fill-color);\n",
              "      border-top-color: var(--fill-color);\n",
              "    }\n",
              "    60% {\n",
              "      border-color: transparent;\n",
              "      border-right-color: var(--fill-color);\n",
              "    }\n",
              "    80% {\n",
              "      border-color: transparent;\n",
              "      border-right-color: var(--fill-color);\n",
              "      border-bottom-color: var(--fill-color);\n",
              "    }\n",
              "    90% {\n",
              "      border-color: transparent;\n",
              "      border-bottom-color: var(--fill-color);\n",
              "    }\n",
              "  }\n",
              "</style>\n",
              "\n",
              "  <script>\n",
              "    async function quickchart(key) {\n",
              "      const quickchartButtonEl =\n",
              "        document.querySelector('#' + key + ' button');\n",
              "      quickchartButtonEl.disabled = true;  // To prevent multiple clicks.\n",
              "      quickchartButtonEl.classList.add('colab-df-spinner');\n",
              "      try {\n",
              "        const charts = await google.colab.kernel.invokeFunction(\n",
              "            'suggestCharts', [key], {});\n",
              "      } catch (error) {\n",
              "        console.error('Error during call to suggestCharts:', error);\n",
              "      }\n",
              "      quickchartButtonEl.classList.remove('colab-df-spinner');\n",
              "      quickchartButtonEl.classList.add('colab-df-quickchart-complete');\n",
              "    }\n",
              "    (() => {\n",
              "      let quickchartButtonEl =\n",
              "        document.querySelector('#df-a2784c54-5717-492c-99ef-af38079b3df5 button');\n",
              "      quickchartButtonEl.style.display =\n",
              "        google.colab.kernel.accessAllowed ? 'block' : 'none';\n",
              "    })();\n",
              "  </script>\n",
              "</div>\n",
              "\n",
              "    </div>\n",
              "  </div>\n"
            ],
            "application/vnd.google.colaboratory.intrinsic+json": {
              "type": "dataframe",
              "variable_name": "results_df",
              "summary": "{\n  \"name\": \"results_df\",\n  \"rows\": 3,\n  \"fields\": [\n    {\n      \"column\": \"Model\",\n      \"properties\": {\n        \"dtype\": \"string\",\n        \"num_unique_values\": 3,\n        \"samples\": [\n          \"RNN\",\n          \"LSTM\",\n          \"LSTM (Title + Description)\"\n        ],\n        \"semantic_type\": \"\",\n        \"description\": \"\"\n      }\n    },\n    {\n      \"column\": \"Test Loss\",\n      \"properties\": {\n        \"dtype\": \"number\",\n        \"std\": 0.0011209103662591891,\n        \"min\": 0.3146721422672272,\n        \"max\": 0.31691333651542664,\n        \"num_unique_values\": 3,\n        \"samples\": [\n          0.31691333651542664,\n          0.31583863496780396,\n          0.3146721422672272\n        ],\n        \"semantic_type\": \"\",\n        \"description\": \"\"\n      }\n    },\n    {\n      \"column\": \"Test Accuracy\",\n      \"properties\": {\n        \"dtype\": \"number\",\n        \"std\": 0.0,\n        \"min\": 0.2150000035762787,\n        \"max\": 0.2150000035762787,\n        \"num_unique_values\": 1,\n        \"samples\": [\n          0.2150000035762787\n        ],\n        \"semantic_type\": \"\",\n        \"description\": \"\"\n      }\n    },\n    {\n      \"column\": \"Precision\",\n      \"properties\": {\n        \"dtype\": \"number\",\n        \"std\": 0.0,\n        \"min\": 0.53,\n        \"max\": 0.53,\n        \"num_unique_values\": 1,\n        \"samples\": [\n          0.53\n        ],\n        \"semantic_type\": \"\",\n        \"description\": \"\"\n      }\n    },\n    {\n      \"column\": \"Recall\",\n      \"properties\": {\n        \"dtype\": \"number\",\n        \"std\": 0.0,\n        \"min\": 0.21544715447154472,\n        \"max\": 0.21544715447154472,\n        \"num_unique_values\": 1,\n        \"samples\": [\n          0.21544715447154472\n        ],\n        \"semantic_type\": \"\",\n        \"description\": \"\"\n      }\n    },\n    {\n      \"column\": \"F1 Score\",\n      \"properties\": {\n        \"dtype\": \"number\",\n        \"std\": 0.0,\n        \"min\": 0.3063583815028902,\n        \"max\": 0.3063583815028902,\n        \"num_unique_values\": 1,\n        \"samples\": [\n          0.3063583815028902\n        ],\n        \"semantic_type\": \"\",\n        \"description\": \"\"\n      }\n    }\n  ]\n}"
            }
          },
          "metadata": {},
          "execution_count": 21
        }
      ]
    }
  ]
}