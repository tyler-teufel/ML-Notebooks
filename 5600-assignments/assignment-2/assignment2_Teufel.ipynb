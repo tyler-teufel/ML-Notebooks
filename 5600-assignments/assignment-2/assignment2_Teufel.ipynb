{
 "cells": [
  {
   "cell_type": "markdown",
   "metadata": {},
   "source": [
    "# Assignment 2 - COMP-5600\n",
    "\n",
    "## Question 1\n",
    "\n",
    "You are tasked with developing models to **predict customer churn** for a subscription-based service. Using the provided dataset, your **goal is to build two classification models: one using Logistic Regression and the other using Naive Bayes.** You will compare their performance, interpret the results, and provide insights into customer churn based on your findings. You will **use provided the Telco Customer Churn dataset**, which contains customer information such as demographic details, account features, and whether the customer has churned. Your **target variable is \"Churn,\" indicating whether a customer has left the service.**\n",
    "\n",
    "### Ensure you follow the below instructions:\n",
    "\n",
    "• Evaluate both models using the following metrics: Accuracy, Precision, Recall, F1-Score, and ROC-AUC.\n",
    "• Perform 5-fold cross-validation on both models and report the averaged results.\n",
    "• If there are any missing values (there will be!), fill them in during a pre-processing step using two of the three common strategies outlined below. Do this for the entire dataset!\n",
    "* Use the most common value in the dataset that has a value for this feature/attribute\n",
    "* Use a default value to fill in for missing values. It can be anything.\n",
    "* Drop that feature all together and use only features that have values for all data points.\n",
    "* Scale or normalize numerical features if required.\n",
    "\n",
    "\n",
    "### Ensure that your IPython notebook has text files that has the following details:\n",
    "\n",
    "* Discuss your outcomes from using your chosen preprocessing steps to handle missing data\n",
    "* Compare the performance of both models and discuss their strengths and weaknesses. Which model is more suited for this dataset and why?\n",
    "* Insights gained from your experiments.\n",
    "\n"
   ]
  },
  {
   "cell_type": "code",
   "execution_count": null,
   "metadata": {},
   "outputs": [],
   "source": [
    "'''\n",
    "* Question 1 Code \n",
    "'''\n",
    "\n",
    "# Import necessary packages + libraries.\n",
    "import pandas as pd\n",
    "import numpy as np\n",
    "\n",
    "# Load in the provided data from the Telco dataset.\n",
    "\n",
    "\n",
    "# Preprocess the data, account for missing data using one of provided strategies.\n",
    "\n",
    "\n",
    "#\n",
    "\n",
    "\n",
    "\n",
    "\n"
   ]
  },
  {
   "cell_type": "markdown",
   "metadata": {},
   "source": [
    "### Question 1 Findings + Discussion:\n",
    "\n",
    "\n",
    "**[DELETE ME] Remember to discuss the following:**\n",
    "\n",
    "* Discuss your outcomes from using your chosen preprocessing steps to handle missing data.\n",
    "* Compare the performance of both models and discuss their strengths and weaknesses. Which model is more suited for this dataset and why?\n",
    "* Insights gained from your experiments.\n",
    "\n"
   ]
  },
  {
   "cell_type": "markdown",
   "metadata": {},
   "source": [
    "## Question 2\n",
    "\n",
    "In this question, you will be **using k-means to perform image compression**. Implement a **naïve version** of the k-means algorithm based on your understanding. Your **code must take the number of clusters k as input and perform k-means clustering on the given image** (test_image.png). Once the algorithm finishes running, the cluster centroids represent the top-k common colors in the image. **Iterate through each pixel in the image and assign the closest color to each pixel. Save and visualize the resulting image.** For reading and writing images, you can use OpenCV, which is an open-source computer vision toolkit. The following code will load the image into a NumPy array. You can use this as input to your K-Means algorithm.\n",
    "\n",
    "<br/>\n",
    "\n",
    "```python\n",
    "import cv2\n",
    "img = cv2.imread(‘test_image.png’)\n",
    "height, width, channels = np.shape(img)\n",
    "for i in width:\n",
    "    for j in height:\n",
    "        pixel = img[j][i] # Read the pixel at location (i,j)\n",
    "        img[j][i] = newValue # Assign a new value to the pixel\n",
    "```\n",
    "\n",
    "<br/>\n",
    "\n",
    "Experiment with different values of k and briefly describe your thoughts about which value works best for this problem. You can use plots, error bars, etc. to support your conclusions.\n"
   ]
  },
  {
   "cell_type": "code",
   "execution_count": null,
   "metadata": {},
   "outputs": [],
   "source": [
    "'''\n",
    "* Question 2 Code\n",
    "'''\n",
    "import cv2\n",
    "img = cv2.imread('test_image.png')\n",
    "height, width, channels = np.shape(img)\n",
    "for i in width:\n",
    "    for j in height:\n",
    "        pixel = img[j][i] # Read the pixel at location (i,j)\n",
    "        img[j][i] = newValue # Assign a new value to the pixel"
   ]
  },
  {
   "cell_type": "markdown",
   "metadata": {},
   "source": [
    "### Question 2 Findings + Discussion:\n",
    "\n",
    "**[DELETE ME] Remember to discuss the following:**\n",
    "\n",
    "* [DELETE ME] Experiment with different values of k and briefly describe your thoughts about which value works best for this problem. You can use plots, error bars, etc. to support your conclusions."
   ]
  }
 ],
 "metadata": {
  "kernelspec": {
   "display_name": "Python 3 (pipx-jupyter)",
   "language": "python",
   "name": "pipx-jupyter"
  },
  "language_info": {
   "name": "python",
   "version": "3.13.0"
  }
 },
 "nbformat": 4,
 "nbformat_minor": 2
}
